{
  "nbformat": 4,
  "nbformat_minor": 0,
  "metadata": {
    "colab": {
      "name": "Projeto Base Cartão de Crédito",
      "provenance": [],
      "collapsed_sections": [],
      "authorship_tag": "ABX9TyPAMUFdZZ2jFhAz0G62aMNo",
      "include_colab_link": true
    },
    "kernelspec": {
      "name": "python3",
      "display_name": "Python 3"
    },
    "language_info": {
      "name": "python"
    }
  },
  "cells": [
    {
      "cell_type": "markdown",
      "metadata": {
        "id": "view-in-github",
        "colab_type": "text"
      },
      "source": [
        "<a href=\"https://colab.research.google.com/github/RodrigoMachadodaSilva/Ci-ncia-de-Dados-An-lise-dados-de-cr-dito/blob/main/Projeto_Base_Cart%C3%A3o_de_Cr%C3%A9dito.ipynb\" target=\"_parent\"><img src=\"https://colab.research.google.com/assets/colab-badge.svg\" alt=\"Open In Colab\"/></a>"
      ]
    },
    {
      "cell_type": "markdown",
      "metadata": {
        "id": "0NwZhBa_AyG-"
      },
      "source": [
        "Um gerente do banco está incomodado com cada vez mais clientes deixando seus serviços de cartão de crédito. Eles realmente apreciariam se alguém pudesse prever quem será afetado para que possam ir proativamente ao cliente para fornecer-lhes melhores serviços e direcionar as decisões dos clientes na direção oposta\n",
        "\n",
        "Agora, este conjunto de dados consiste em 10.000 clientes mencionando sua idade, salário, status_marital, limite do cartão de crédito, categoria do cartão de crédito, etc. Existem quase 18 recursos.\n",
        "\n",
        "Temos apenas 16,07% de clientes que cancelaram. Portanto, é um pouco difícil treinar nosso modelo para prever a rotatividade de clientes.\n",
        "\n",
        "Data Description\n",
        "There are a total of 21 variables\n",
        "\n",
        "Client Num: unique ID for each client\n",
        "Attrition_Flag (2 levels: Attrited Customer, Existing Customer)\n",
        "Customer_Age\n",
        "Gender\n",
        "Dependent_count\n",
        "Education_Level (7 levels: College, Doctorate, Graduate, High School, Post-Graduate, Uneducated, Unknown)\n",
        "Marital_Status (4 levels: Divorced, Married, Single, Unknown)\n",
        "Income_Category (6 levels: <40k, 40-60k, 60-80k, 80-120k, >120k, Unknown)\n",
        "Card_Category (4 levels: Blue, Gold, Platinum, Silver)\n",
        "Months_on_book (with respect to a Purchased Loan, the number of complete calendar months that have elapsed since calendar month in which the Origination Date of such Purchased Loan occurred)\n",
        "Total_Relationship_Count (Total number of products held by the customers, e.g. cards, accounts, etc.)\n",
        "Months_Inactive_12_mon (Number of months that customer is inactive)\n",
        "Contacts_Count_12_mon (Number of times the bank contacted the customer and/or vice versa)\n",
        "Credit_Limit (Maximum amount you can borrow using a credit card or line of credit)\n",
        "Total_Revolving_Bal (Total unpaid balance on the revolving credit account)\n",
        "Avg_Open_To_Buy (Average difference between the credit limit assigned to a cardholder account and the present balance on the account)\n",
        "Total_Amt_Chng_Q4_Q1 (Change in customer's expenditure between the 4th and the 1st quarter)\n",
        "Total_Trans_Amt (Amount of all transcations)\n",
        "Total_Trans_Ct (Number of transcation)\n",
        "Total_Ct_Chng_Q4_Q1 (Change in the number of transcations made by customer between the 4th and the 1st quarter)\n",
        "Avg_Utilization_Ratio (Credit Utilization Ratio is how much you currently owe divided by your credit limit, i.e. a low utilization rate implies that customer is using less of the available credit)"
      ]
    },
    {
      "cell_type": "markdown",
      "metadata": {
        "id": "jEBO63bpAoVY"
      },
      "source": [
        "# EXPLORAÇÃO DOS DADOS`\n",
        "\n"
      ]
    },
    {
      "cell_type": "code",
      "metadata": {
        "id": "Bgh1z95S1Iq9"
      },
      "source": [
        "import pandas as pd\n",
        "import numpy as np\n",
        "from matplotlib import pyplot as plt\n",
        "import seaborn as sns"
      ],
      "execution_count": null,
      "outputs": []
    },
    {
      "cell_type": "code",
      "metadata": {
        "id": "5OumqJa52Lys"
      },
      "source": [
        "base_credito = pd.read_csv('/content/BankChurners.csv')"
      ],
      "execution_count": null,
      "outputs": []
    },
    {
      "cell_type": "code",
      "metadata": {
        "id": "Xto_MbPS2UD6",
        "colab": {
          "base_uri": "https://localhost:8080/",
          "height": 303
        },
        "outputId": "860c36b3-223e-440f-d353-9313ac7c9890"
      },
      "source": [
        "base_credito.head()"
      ],
      "execution_count": null,
      "outputs": [
        {
          "output_type": "execute_result",
          "data": {
            "text/html": [
              "<div>\n",
              "<style scoped>\n",
              "    .dataframe tbody tr th:only-of-type {\n",
              "        vertical-align: middle;\n",
              "    }\n",
              "\n",
              "    .dataframe tbody tr th {\n",
              "        vertical-align: top;\n",
              "    }\n",
              "\n",
              "    .dataframe thead th {\n",
              "        text-align: right;\n",
              "    }\n",
              "</style>\n",
              "<table border=\"1\" class=\"dataframe\">\n",
              "  <thead>\n",
              "    <tr style=\"text-align: right;\">\n",
              "      <th></th>\n",
              "      <th>CLIENTNUM</th>\n",
              "      <th>Attrition_Flag</th>\n",
              "      <th>Customer_Age</th>\n",
              "      <th>Gender</th>\n",
              "      <th>Dependent_count</th>\n",
              "      <th>Education_Level</th>\n",
              "      <th>Marital_Status</th>\n",
              "      <th>Income_Category</th>\n",
              "      <th>Card_Category</th>\n",
              "      <th>Months_on_book</th>\n",
              "      <th>Total_Relationship_Count</th>\n",
              "      <th>Months_Inactive_12_mon</th>\n",
              "      <th>Contacts_Count_12_mon</th>\n",
              "      <th>Credit_Limit</th>\n",
              "      <th>Total_Revolving_Bal</th>\n",
              "      <th>Avg_Open_To_Buy</th>\n",
              "      <th>Total_Amt_Chng_Q4_Q1</th>\n",
              "      <th>Total_Trans_Amt</th>\n",
              "      <th>Total_Trans_Ct</th>\n",
              "      <th>Total_Ct_Chng_Q4_Q1</th>\n",
              "      <th>Avg_Utilization_Ratio</th>\n",
              "      <th>Naive_Bayes_Classifier_Attrition_Flag_Card_Category_Contacts_Count_12_mon_Dependent_count_Education_Level_Months_Inactive_12_mon_1</th>\n",
              "      <th>Naive_Bayes_Classifier_Attrition_Flag_Card_Category_Contacts_Count_12_mon_Dependent_count_Education_Level_Months_Inactive_12_mon_2</th>\n",
              "    </tr>\n",
              "  </thead>\n",
              "  <tbody>\n",
              "    <tr>\n",
              "      <th>0</th>\n",
              "      <td>768805383</td>\n",
              "      <td>Existing Customer</td>\n",
              "      <td>45</td>\n",
              "      <td>M</td>\n",
              "      <td>3</td>\n",
              "      <td>High School</td>\n",
              "      <td>Married</td>\n",
              "      <td>$60K - $80K</td>\n",
              "      <td>Blue</td>\n",
              "      <td>39</td>\n",
              "      <td>5</td>\n",
              "      <td>1</td>\n",
              "      <td>3</td>\n",
              "      <td>12691.0</td>\n",
              "      <td>777</td>\n",
              "      <td>11914.0</td>\n",
              "      <td>1.335</td>\n",
              "      <td>1144</td>\n",
              "      <td>42</td>\n",
              "      <td>1.625</td>\n",
              "      <td>0.061</td>\n",
              "      <td>0.000093</td>\n",
              "      <td>0.99991</td>\n",
              "    </tr>\n",
              "    <tr>\n",
              "      <th>1</th>\n",
              "      <td>818770008</td>\n",
              "      <td>Existing Customer</td>\n",
              "      <td>49</td>\n",
              "      <td>F</td>\n",
              "      <td>5</td>\n",
              "      <td>Graduate</td>\n",
              "      <td>Single</td>\n",
              "      <td>Less than $40K</td>\n",
              "      <td>Blue</td>\n",
              "      <td>44</td>\n",
              "      <td>6</td>\n",
              "      <td>1</td>\n",
              "      <td>2</td>\n",
              "      <td>8256.0</td>\n",
              "      <td>864</td>\n",
              "      <td>7392.0</td>\n",
              "      <td>1.541</td>\n",
              "      <td>1291</td>\n",
              "      <td>33</td>\n",
              "      <td>3.714</td>\n",
              "      <td>0.105</td>\n",
              "      <td>0.000057</td>\n",
              "      <td>0.99994</td>\n",
              "    </tr>\n",
              "    <tr>\n",
              "      <th>2</th>\n",
              "      <td>713982108</td>\n",
              "      <td>Existing Customer</td>\n",
              "      <td>51</td>\n",
              "      <td>M</td>\n",
              "      <td>3</td>\n",
              "      <td>Graduate</td>\n",
              "      <td>Married</td>\n",
              "      <td>$80K - $120K</td>\n",
              "      <td>Blue</td>\n",
              "      <td>36</td>\n",
              "      <td>4</td>\n",
              "      <td>1</td>\n",
              "      <td>0</td>\n",
              "      <td>3418.0</td>\n",
              "      <td>0</td>\n",
              "      <td>3418.0</td>\n",
              "      <td>2.594</td>\n",
              "      <td>1887</td>\n",
              "      <td>20</td>\n",
              "      <td>2.333</td>\n",
              "      <td>0.000</td>\n",
              "      <td>0.000021</td>\n",
              "      <td>0.99998</td>\n",
              "    </tr>\n",
              "    <tr>\n",
              "      <th>3</th>\n",
              "      <td>769911858</td>\n",
              "      <td>Existing Customer</td>\n",
              "      <td>40</td>\n",
              "      <td>F</td>\n",
              "      <td>4</td>\n",
              "      <td>High School</td>\n",
              "      <td>Unknown</td>\n",
              "      <td>Less than $40K</td>\n",
              "      <td>Blue</td>\n",
              "      <td>34</td>\n",
              "      <td>3</td>\n",
              "      <td>4</td>\n",
              "      <td>1</td>\n",
              "      <td>3313.0</td>\n",
              "      <td>2517</td>\n",
              "      <td>796.0</td>\n",
              "      <td>1.405</td>\n",
              "      <td>1171</td>\n",
              "      <td>20</td>\n",
              "      <td>2.333</td>\n",
              "      <td>0.760</td>\n",
              "      <td>0.000134</td>\n",
              "      <td>0.99987</td>\n",
              "    </tr>\n",
              "    <tr>\n",
              "      <th>4</th>\n",
              "      <td>709106358</td>\n",
              "      <td>Existing Customer</td>\n",
              "      <td>40</td>\n",
              "      <td>M</td>\n",
              "      <td>3</td>\n",
              "      <td>Uneducated</td>\n",
              "      <td>Married</td>\n",
              "      <td>$60K - $80K</td>\n",
              "      <td>Blue</td>\n",
              "      <td>21</td>\n",
              "      <td>5</td>\n",
              "      <td>1</td>\n",
              "      <td>0</td>\n",
              "      <td>4716.0</td>\n",
              "      <td>0</td>\n",
              "      <td>4716.0</td>\n",
              "      <td>2.175</td>\n",
              "      <td>816</td>\n",
              "      <td>28</td>\n",
              "      <td>2.500</td>\n",
              "      <td>0.000</td>\n",
              "      <td>0.000022</td>\n",
              "      <td>0.99998</td>\n",
              "    </tr>\n",
              "  </tbody>\n",
              "</table>\n",
              "</div>"
            ],
            "text/plain": [
              "   CLIENTNUM  ... Naive_Bayes_Classifier_Attrition_Flag_Card_Category_Contacts_Count_12_mon_Dependent_count_Education_Level_Months_Inactive_12_mon_2\n",
              "0  768805383  ...                                            0.99991                                                                                \n",
              "1  818770008  ...                                            0.99994                                                                                \n",
              "2  713982108  ...                                            0.99998                                                                                \n",
              "3  769911858  ...                                            0.99987                                                                                \n",
              "4  709106358  ...                                            0.99998                                                                                \n",
              "\n",
              "[5 rows x 23 columns]"
            ]
          },
          "metadata": {
            "tags": []
          },
          "execution_count": 79
        }
      ]
    },
    {
      "cell_type": "code",
      "metadata": {
        "id": "ljI17EsFDhIJ"
      },
      "source": [
        "base_credito = base_credito.drop(['Naive_Bayes_Classifier_Attrition_Flag_Card_Category_Contacts_Count_12_mon_Dependent_count_Education_Level_Months_Inactive_12_mon_1',\n",
        "                                  'Naive_Bayes_Classifier_Attrition_Flag_Card_Category_Contacts_Count_12_mon_Dependent_count_Education_Level_Months_Inactive_12_mon_2'],axis =1)"
      ],
      "execution_count": null,
      "outputs": []
    },
    {
      "cell_type": "code",
      "metadata": {
        "id": "uJIznigq52Ay"
      },
      "source": [
        "base_credito = base_credito.rename(columns={'CLIENTNUM':'ID',\t'Attrition_Flag':'CONDICAO',\n",
        "                                              'Customer_Age':'IDADE',\t'Gender':'GENERO',\n",
        "                                              'Dependent_count':'DEPENDENTES','Education_Level':'INSTRUÇAO',\n",
        "                                              'Marital_Status':'ESTADO_CIVIL','Income_Category':'RENDA',\n",
        "                                              'Card_Category':'TIPO_DO_CARTAO',\t'Months_on_book':'TEMPO(MESES)',\t\n",
        "                                              'Total_Relationship_Count':'PRODUTOS_ATIVOS',\t\n",
        "                                              'Months_Inactive_12_mon':'PERIODO_INATIVO',\t'Contacts_Count_12_mon':\n",
        "                                              'CONTATOS_COM_BANCO','Credit_Limit':'LIMITE_DE_CREDITO',\t\n",
        "                                              'Total_Revolving_Bal':'SALDO_TOTAL_NAO_PAGO',\t'Avg_Open_To_Buy':'DIFRENCA_MEDIA_ENTRE_LIMITE_CARTAO_E _SALDO_NA CONTA',\n",
        "                                              'Total_Amt_Chng_Q4_Q1':'MUDANCA_NAS_DESPESAS_DO_CLIENTE_ENTRE O_4º_E_O_1º-TRIMESTRE',\n",
        "                                              'Total_Trans_Amt':'VALOR_TOTAL_DAS_TRANSACOES',\n",
        "                                              'Total_Trans_Ct':'NUMERO_DE_TRANSACOES','Total_Ct_Chng_Q4_Q1':'ALTERACAO_NO_NUMERO_DE_TRANSACOES_ENTRE_0_4°_E_1°_TRIMESTRE',\n",
        "                                              'Avg_Utilization_Ratio':'TAXA_DE_UTILIZACAO_DE_CREDITO'})"
      ],
      "execution_count": null,
      "outputs": []
    },
    {
      "cell_type": "code",
      "metadata": {
        "colab": {
          "base_uri": "https://localhost:8080/",
          "height": 402
        },
        "id": "8LqsL2qRo9nh",
        "outputId": "9ea9290f-9ed4-4681-b681-df99f23cacaf"
      },
      "source": [
        "base_credito.head()"
      ],
      "execution_count": null,
      "outputs": [
        {
          "output_type": "execute_result",
          "data": {
            "text/html": [
              "<div>\n",
              "<style scoped>\n",
              "    .dataframe tbody tr th:only-of-type {\n",
              "        vertical-align: middle;\n",
              "    }\n",
              "\n",
              "    .dataframe tbody tr th {\n",
              "        vertical-align: top;\n",
              "    }\n",
              "\n",
              "    .dataframe thead th {\n",
              "        text-align: right;\n",
              "    }\n",
              "</style>\n",
              "<table border=\"1\" class=\"dataframe\">\n",
              "  <thead>\n",
              "    <tr style=\"text-align: right;\">\n",
              "      <th></th>\n",
              "      <th>ID</th>\n",
              "      <th>CONDICAO</th>\n",
              "      <th>IDADE</th>\n",
              "      <th>GENERO</th>\n",
              "      <th>DEPENDENTES</th>\n",
              "      <th>INSTRUÇAO</th>\n",
              "      <th>ESTADO_CIVIL</th>\n",
              "      <th>RENDA</th>\n",
              "      <th>TIPO_DO_CARTAO</th>\n",
              "      <th>TEMPO(MESES)</th>\n",
              "      <th>PRODUTOS_ATIVOS</th>\n",
              "      <th>PERIODO_INATIVO</th>\n",
              "      <th>CONTATOS_COM_BANCO</th>\n",
              "      <th>LIMITE_DE_CREDITO</th>\n",
              "      <th>SALDO_TOTAL_NAO_PAGO</th>\n",
              "      <th>DIFRENCA_MEDIA_ENTRE_LIMITE_CARTAO_E _SALDO_NA CONTA</th>\n",
              "      <th>MUDANCA_NAS_DESPESAS_DO_CLIENTE_ENTRE O_4º_E_O_1º-TRIMESTRE</th>\n",
              "      <th>VALOR_TOTAL_DAS_TRANSACOES</th>\n",
              "      <th>NUMERO_DE_TRANSACOES</th>\n",
              "      <th>ALTERACAO_NO_NUMERO_DE_TRANSACOES_ENTRE_0_4°_E_1°_TRIMESTRE</th>\n",
              "      <th>TAXA_DE_UTILIZACAO_DE_CREDITO</th>\n",
              "    </tr>\n",
              "  </thead>\n",
              "  <tbody>\n",
              "    <tr>\n",
              "      <th>0</th>\n",
              "      <td>768805383</td>\n",
              "      <td>Existing Customer</td>\n",
              "      <td>45</td>\n",
              "      <td>M</td>\n",
              "      <td>3</td>\n",
              "      <td>High School</td>\n",
              "      <td>Married</td>\n",
              "      <td>$60K - $80K</td>\n",
              "      <td>Blue</td>\n",
              "      <td>39</td>\n",
              "      <td>5</td>\n",
              "      <td>1</td>\n",
              "      <td>3</td>\n",
              "      <td>12691.0</td>\n",
              "      <td>777</td>\n",
              "      <td>11914.0</td>\n",
              "      <td>1.335</td>\n",
              "      <td>1144</td>\n",
              "      <td>42</td>\n",
              "      <td>1.625</td>\n",
              "      <td>0.061</td>\n",
              "    </tr>\n",
              "    <tr>\n",
              "      <th>1</th>\n",
              "      <td>818770008</td>\n",
              "      <td>Existing Customer</td>\n",
              "      <td>49</td>\n",
              "      <td>F</td>\n",
              "      <td>5</td>\n",
              "      <td>Graduate</td>\n",
              "      <td>Single</td>\n",
              "      <td>Less than $40K</td>\n",
              "      <td>Blue</td>\n",
              "      <td>44</td>\n",
              "      <td>6</td>\n",
              "      <td>1</td>\n",
              "      <td>2</td>\n",
              "      <td>8256.0</td>\n",
              "      <td>864</td>\n",
              "      <td>7392.0</td>\n",
              "      <td>1.541</td>\n",
              "      <td>1291</td>\n",
              "      <td>33</td>\n",
              "      <td>3.714</td>\n",
              "      <td>0.105</td>\n",
              "    </tr>\n",
              "    <tr>\n",
              "      <th>2</th>\n",
              "      <td>713982108</td>\n",
              "      <td>Existing Customer</td>\n",
              "      <td>51</td>\n",
              "      <td>M</td>\n",
              "      <td>3</td>\n",
              "      <td>Graduate</td>\n",
              "      <td>Married</td>\n",
              "      <td>$80K - $120K</td>\n",
              "      <td>Blue</td>\n",
              "      <td>36</td>\n",
              "      <td>4</td>\n",
              "      <td>1</td>\n",
              "      <td>0</td>\n",
              "      <td>3418.0</td>\n",
              "      <td>0</td>\n",
              "      <td>3418.0</td>\n",
              "      <td>2.594</td>\n",
              "      <td>1887</td>\n",
              "      <td>20</td>\n",
              "      <td>2.333</td>\n",
              "      <td>0.000</td>\n",
              "    </tr>\n",
              "    <tr>\n",
              "      <th>3</th>\n",
              "      <td>769911858</td>\n",
              "      <td>Existing Customer</td>\n",
              "      <td>40</td>\n",
              "      <td>F</td>\n",
              "      <td>4</td>\n",
              "      <td>High School</td>\n",
              "      <td>Unknown</td>\n",
              "      <td>Less than $40K</td>\n",
              "      <td>Blue</td>\n",
              "      <td>34</td>\n",
              "      <td>3</td>\n",
              "      <td>4</td>\n",
              "      <td>1</td>\n",
              "      <td>3313.0</td>\n",
              "      <td>2517</td>\n",
              "      <td>796.0</td>\n",
              "      <td>1.405</td>\n",
              "      <td>1171</td>\n",
              "      <td>20</td>\n",
              "      <td>2.333</td>\n",
              "      <td>0.760</td>\n",
              "    </tr>\n",
              "    <tr>\n",
              "      <th>4</th>\n",
              "      <td>709106358</td>\n",
              "      <td>Existing Customer</td>\n",
              "      <td>40</td>\n",
              "      <td>M</td>\n",
              "      <td>3</td>\n",
              "      <td>Uneducated</td>\n",
              "      <td>Married</td>\n",
              "      <td>$60K - $80K</td>\n",
              "      <td>Blue</td>\n",
              "      <td>21</td>\n",
              "      <td>5</td>\n",
              "      <td>1</td>\n",
              "      <td>0</td>\n",
              "      <td>4716.0</td>\n",
              "      <td>0</td>\n",
              "      <td>4716.0</td>\n",
              "      <td>2.175</td>\n",
              "      <td>816</td>\n",
              "      <td>28</td>\n",
              "      <td>2.500</td>\n",
              "      <td>0.000</td>\n",
              "    </tr>\n",
              "  </tbody>\n",
              "</table>\n",
              "</div>"
            ],
            "text/plain": [
              "          ID  ... TAXA_DE_UTILIZACAO_DE_CREDITO\n",
              "0  768805383  ...                         0.061\n",
              "1  818770008  ...                         0.105\n",
              "2  713982108  ...                         0.000\n",
              "3  769911858  ...                         0.760\n",
              "4  709106358  ...                         0.000\n",
              "\n",
              "[5 rows x 21 columns]"
            ]
          },
          "metadata": {
            "tags": []
          },
          "execution_count": 83
        }
      ]
    },
    {
      "cell_type": "code",
      "metadata": {
        "id": "zQVephQZON7E"
      },
      "source": [
        "base_credito['CONDICAO'] = base_credito['CONDICAO'].apply(lambda x: 1 if x == 'Attrited Customer' else 0)\n"
      ],
      "execution_count": null,
      "outputs": []
    },
    {
      "cell_type": "code",
      "metadata": {
        "id": "9KHE4-wgEjpq",
        "colab": {
          "base_uri": "https://localhost:8080/",
          "height": 779
        },
        "outputId": "b76fe839-a66b-4df0-cadc-deb388cff294"
      },
      "source": [
        "base_credito"
      ],
      "execution_count": null,
      "outputs": [
        {
          "output_type": "execute_result",
          "data": {
            "text/html": [
              "<div>\n",
              "<style scoped>\n",
              "    .dataframe tbody tr th:only-of-type {\n",
              "        vertical-align: middle;\n",
              "    }\n",
              "\n",
              "    .dataframe tbody tr th {\n",
              "        vertical-align: top;\n",
              "    }\n",
              "\n",
              "    .dataframe thead th {\n",
              "        text-align: right;\n",
              "    }\n",
              "</style>\n",
              "<table border=\"1\" class=\"dataframe\">\n",
              "  <thead>\n",
              "    <tr style=\"text-align: right;\">\n",
              "      <th></th>\n",
              "      <th>ID</th>\n",
              "      <th>CONDICAO</th>\n",
              "      <th>IDADE</th>\n",
              "      <th>GENERO</th>\n",
              "      <th>DEPENDENTES</th>\n",
              "      <th>INSTRUÇAO</th>\n",
              "      <th>ESTADO_CIVIL</th>\n",
              "      <th>RENDA</th>\n",
              "      <th>TIPO_DO_CARTAO</th>\n",
              "      <th>TEMPO(MESES)</th>\n",
              "      <th>PRODUTOS_ATIVOS</th>\n",
              "      <th>PERIODO_INATIVO</th>\n",
              "      <th>CONTATOS_COM_BANCO</th>\n",
              "      <th>LIMITE_DE_CREDITO</th>\n",
              "      <th>SALDO_TOTAL_NAO_PAGO</th>\n",
              "      <th>DIFRENCA_MEDIA_ENTRE_LIMITE_CARTAO_E _SALDO_NA CONTA</th>\n",
              "      <th>MUDANCA_NAS_DESPESAS_DO_CLIENTE_ENTRE O_4º_E_O_1º-TRIMESTRE</th>\n",
              "      <th>VALOR_TOTAL_DAS_TRANSACOES</th>\n",
              "      <th>NUMERO_DE_TRANSACOES</th>\n",
              "      <th>ALTERACAO_NO_NUMERO_DE_TRANSACOES_ENTRE_0_4°_E_1°_TRIMESTRE</th>\n",
              "      <th>TAXA_DE_UTILIZACAO_DE_CREDITO</th>\n",
              "    </tr>\n",
              "  </thead>\n",
              "  <tbody>\n",
              "    <tr>\n",
              "      <th>0</th>\n",
              "      <td>768805383</td>\n",
              "      <td>0</td>\n",
              "      <td>45</td>\n",
              "      <td>M</td>\n",
              "      <td>3</td>\n",
              "      <td>High School</td>\n",
              "      <td>Married</td>\n",
              "      <td>$60K - $80K</td>\n",
              "      <td>Blue</td>\n",
              "      <td>39</td>\n",
              "      <td>5</td>\n",
              "      <td>1</td>\n",
              "      <td>3</td>\n",
              "      <td>12691.0</td>\n",
              "      <td>777</td>\n",
              "      <td>11914.0</td>\n",
              "      <td>1.335</td>\n",
              "      <td>1144</td>\n",
              "      <td>42</td>\n",
              "      <td>1.625</td>\n",
              "      <td>0.061</td>\n",
              "    </tr>\n",
              "    <tr>\n",
              "      <th>1</th>\n",
              "      <td>818770008</td>\n",
              "      <td>0</td>\n",
              "      <td>49</td>\n",
              "      <td>F</td>\n",
              "      <td>5</td>\n",
              "      <td>Graduate</td>\n",
              "      <td>Single</td>\n",
              "      <td>Less than $40K</td>\n",
              "      <td>Blue</td>\n",
              "      <td>44</td>\n",
              "      <td>6</td>\n",
              "      <td>1</td>\n",
              "      <td>2</td>\n",
              "      <td>8256.0</td>\n",
              "      <td>864</td>\n",
              "      <td>7392.0</td>\n",
              "      <td>1.541</td>\n",
              "      <td>1291</td>\n",
              "      <td>33</td>\n",
              "      <td>3.714</td>\n",
              "      <td>0.105</td>\n",
              "    </tr>\n",
              "    <tr>\n",
              "      <th>2</th>\n",
              "      <td>713982108</td>\n",
              "      <td>0</td>\n",
              "      <td>51</td>\n",
              "      <td>M</td>\n",
              "      <td>3</td>\n",
              "      <td>Graduate</td>\n",
              "      <td>Married</td>\n",
              "      <td>$80K - $120K</td>\n",
              "      <td>Blue</td>\n",
              "      <td>36</td>\n",
              "      <td>4</td>\n",
              "      <td>1</td>\n",
              "      <td>0</td>\n",
              "      <td>3418.0</td>\n",
              "      <td>0</td>\n",
              "      <td>3418.0</td>\n",
              "      <td>2.594</td>\n",
              "      <td>1887</td>\n",
              "      <td>20</td>\n",
              "      <td>2.333</td>\n",
              "      <td>0.000</td>\n",
              "    </tr>\n",
              "    <tr>\n",
              "      <th>3</th>\n",
              "      <td>769911858</td>\n",
              "      <td>0</td>\n",
              "      <td>40</td>\n",
              "      <td>F</td>\n",
              "      <td>4</td>\n",
              "      <td>High School</td>\n",
              "      <td>Unknown</td>\n",
              "      <td>Less than $40K</td>\n",
              "      <td>Blue</td>\n",
              "      <td>34</td>\n",
              "      <td>3</td>\n",
              "      <td>4</td>\n",
              "      <td>1</td>\n",
              "      <td>3313.0</td>\n",
              "      <td>2517</td>\n",
              "      <td>796.0</td>\n",
              "      <td>1.405</td>\n",
              "      <td>1171</td>\n",
              "      <td>20</td>\n",
              "      <td>2.333</td>\n",
              "      <td>0.760</td>\n",
              "    </tr>\n",
              "    <tr>\n",
              "      <th>4</th>\n",
              "      <td>709106358</td>\n",
              "      <td>0</td>\n",
              "      <td>40</td>\n",
              "      <td>M</td>\n",
              "      <td>3</td>\n",
              "      <td>Uneducated</td>\n",
              "      <td>Married</td>\n",
              "      <td>$60K - $80K</td>\n",
              "      <td>Blue</td>\n",
              "      <td>21</td>\n",
              "      <td>5</td>\n",
              "      <td>1</td>\n",
              "      <td>0</td>\n",
              "      <td>4716.0</td>\n",
              "      <td>0</td>\n",
              "      <td>4716.0</td>\n",
              "      <td>2.175</td>\n",
              "      <td>816</td>\n",
              "      <td>28</td>\n",
              "      <td>2.500</td>\n",
              "      <td>0.000</td>\n",
              "    </tr>\n",
              "    <tr>\n",
              "      <th>...</th>\n",
              "      <td>...</td>\n",
              "      <td>...</td>\n",
              "      <td>...</td>\n",
              "      <td>...</td>\n",
              "      <td>...</td>\n",
              "      <td>...</td>\n",
              "      <td>...</td>\n",
              "      <td>...</td>\n",
              "      <td>...</td>\n",
              "      <td>...</td>\n",
              "      <td>...</td>\n",
              "      <td>...</td>\n",
              "      <td>...</td>\n",
              "      <td>...</td>\n",
              "      <td>...</td>\n",
              "      <td>...</td>\n",
              "      <td>...</td>\n",
              "      <td>...</td>\n",
              "      <td>...</td>\n",
              "      <td>...</td>\n",
              "      <td>...</td>\n",
              "    </tr>\n",
              "    <tr>\n",
              "      <th>10122</th>\n",
              "      <td>772366833</td>\n",
              "      <td>0</td>\n",
              "      <td>50</td>\n",
              "      <td>M</td>\n",
              "      <td>2</td>\n",
              "      <td>Graduate</td>\n",
              "      <td>Single</td>\n",
              "      <td>$40K - $60K</td>\n",
              "      <td>Blue</td>\n",
              "      <td>40</td>\n",
              "      <td>3</td>\n",
              "      <td>2</td>\n",
              "      <td>3</td>\n",
              "      <td>4003.0</td>\n",
              "      <td>1851</td>\n",
              "      <td>2152.0</td>\n",
              "      <td>0.703</td>\n",
              "      <td>15476</td>\n",
              "      <td>117</td>\n",
              "      <td>0.857</td>\n",
              "      <td>0.462</td>\n",
              "    </tr>\n",
              "    <tr>\n",
              "      <th>10123</th>\n",
              "      <td>710638233</td>\n",
              "      <td>1</td>\n",
              "      <td>41</td>\n",
              "      <td>M</td>\n",
              "      <td>2</td>\n",
              "      <td>Unknown</td>\n",
              "      <td>Divorced</td>\n",
              "      <td>$40K - $60K</td>\n",
              "      <td>Blue</td>\n",
              "      <td>25</td>\n",
              "      <td>4</td>\n",
              "      <td>2</td>\n",
              "      <td>3</td>\n",
              "      <td>4277.0</td>\n",
              "      <td>2186</td>\n",
              "      <td>2091.0</td>\n",
              "      <td>0.804</td>\n",
              "      <td>8764</td>\n",
              "      <td>69</td>\n",
              "      <td>0.683</td>\n",
              "      <td>0.511</td>\n",
              "    </tr>\n",
              "    <tr>\n",
              "      <th>10124</th>\n",
              "      <td>716506083</td>\n",
              "      <td>1</td>\n",
              "      <td>44</td>\n",
              "      <td>F</td>\n",
              "      <td>1</td>\n",
              "      <td>High School</td>\n",
              "      <td>Married</td>\n",
              "      <td>Less than $40K</td>\n",
              "      <td>Blue</td>\n",
              "      <td>36</td>\n",
              "      <td>5</td>\n",
              "      <td>3</td>\n",
              "      <td>4</td>\n",
              "      <td>5409.0</td>\n",
              "      <td>0</td>\n",
              "      <td>5409.0</td>\n",
              "      <td>0.819</td>\n",
              "      <td>10291</td>\n",
              "      <td>60</td>\n",
              "      <td>0.818</td>\n",
              "      <td>0.000</td>\n",
              "    </tr>\n",
              "    <tr>\n",
              "      <th>10125</th>\n",
              "      <td>717406983</td>\n",
              "      <td>1</td>\n",
              "      <td>30</td>\n",
              "      <td>M</td>\n",
              "      <td>2</td>\n",
              "      <td>Graduate</td>\n",
              "      <td>Unknown</td>\n",
              "      <td>$40K - $60K</td>\n",
              "      <td>Blue</td>\n",
              "      <td>36</td>\n",
              "      <td>4</td>\n",
              "      <td>3</td>\n",
              "      <td>3</td>\n",
              "      <td>5281.0</td>\n",
              "      <td>0</td>\n",
              "      <td>5281.0</td>\n",
              "      <td>0.535</td>\n",
              "      <td>8395</td>\n",
              "      <td>62</td>\n",
              "      <td>0.722</td>\n",
              "      <td>0.000</td>\n",
              "    </tr>\n",
              "    <tr>\n",
              "      <th>10126</th>\n",
              "      <td>714337233</td>\n",
              "      <td>1</td>\n",
              "      <td>43</td>\n",
              "      <td>F</td>\n",
              "      <td>2</td>\n",
              "      <td>Graduate</td>\n",
              "      <td>Married</td>\n",
              "      <td>Less than $40K</td>\n",
              "      <td>Silver</td>\n",
              "      <td>25</td>\n",
              "      <td>6</td>\n",
              "      <td>2</td>\n",
              "      <td>4</td>\n",
              "      <td>10388.0</td>\n",
              "      <td>1961</td>\n",
              "      <td>8427.0</td>\n",
              "      <td>0.703</td>\n",
              "      <td>10294</td>\n",
              "      <td>61</td>\n",
              "      <td>0.649</td>\n",
              "      <td>0.189</td>\n",
              "    </tr>\n",
              "  </tbody>\n",
              "</table>\n",
              "<p>10127 rows × 21 columns</p>\n",
              "</div>"
            ],
            "text/plain": [
              "              ID  ...  TAXA_DE_UTILIZACAO_DE_CREDITO\n",
              "0      768805383  ...                          0.061\n",
              "1      818770008  ...                          0.105\n",
              "2      713982108  ...                          0.000\n",
              "3      769911858  ...                          0.760\n",
              "4      709106358  ...                          0.000\n",
              "...          ...  ...                            ...\n",
              "10122  772366833  ...                          0.462\n",
              "10123  710638233  ...                          0.511\n",
              "10124  716506083  ...                          0.000\n",
              "10125  717406983  ...                          0.000\n",
              "10126  714337233  ...                          0.189\n",
              "\n",
              "[10127 rows x 21 columns]"
            ]
          },
          "metadata": {
            "tags": []
          },
          "execution_count": 85
        }
      ]
    },
    {
      "cell_type": "code",
      "metadata": {
        "id": "7KULktI65ier",
        "colab": {
          "base_uri": "https://localhost:8080/"
        },
        "outputId": "fca2d4db-5e98-4c06-f923-2766f21fea7c"
      },
      "source": [
        "base_credito.info()"
      ],
      "execution_count": null,
      "outputs": [
        {
          "output_type": "stream",
          "text": [
            "<class 'pandas.core.frame.DataFrame'>\n",
            "RangeIndex: 10127 entries, 0 to 10126\n",
            "Data columns (total 21 columns):\n",
            " #   Column                                                       Non-Null Count  Dtype  \n",
            "---  ------                                                       --------------  -----  \n",
            " 0   ID                                                           10127 non-null  int64  \n",
            " 1   CONDICAO                                                     10127 non-null  int64  \n",
            " 2   IDADE                                                        10127 non-null  int64  \n",
            " 3   GENERO                                                       10127 non-null  object \n",
            " 4   DEPENDENTES                                                  10127 non-null  int64  \n",
            " 5   INSTRUÇAO                                                    10127 non-null  object \n",
            " 6   ESTADO_CIVIL                                                 10127 non-null  object \n",
            " 7   RENDA                                                        10127 non-null  object \n",
            " 8   TIPO_DO_CARTAO                                               10127 non-null  object \n",
            " 9   TEMPO(MESES)                                                 10127 non-null  int64  \n",
            " 10  PRODUTOS_ATIVOS                                              10127 non-null  int64  \n",
            " 11  PERIODO_INATIVO                                              10127 non-null  int64  \n",
            " 12  CONTATOS_COM_BANCO                                           10127 non-null  int64  \n",
            " 13  LIMITE_DE_CREDITO                                            10127 non-null  float64\n",
            " 14  SALDO_TOTAL_NAO_PAGO                                         10127 non-null  int64  \n",
            " 15  DIFRENCA_MEDIA_ENTRE_LIMITE_CARTAO_E _SALDO_NA CONTA         10127 non-null  float64\n",
            " 16  MUDANCA_NAS_DESPESAS_DO_CLIENTE_ENTRE O_4º_E_O_1º-TRIMESTRE  10127 non-null  float64\n",
            " 17  VALOR_TOTAL_DAS_TRANSACOES                                   10127 non-null  int64  \n",
            " 18  NUMERO_DE_TRANSACOES                                         10127 non-null  int64  \n",
            " 19  ALTERACAO_NO_NUMERO_DE_TRANSACOES_ENTRE_0_4°_E_1°_TRIMESTRE  10127 non-null  float64\n",
            " 20  TAXA_DE_UTILIZACAO_DE_CREDITO                                10127 non-null  float64\n",
            "dtypes: float64(5), int64(11), object(5)\n",
            "memory usage: 1.6+ MB\n"
          ],
          "name": "stdout"
        }
      ]
    },
    {
      "cell_type": "code",
      "metadata": {
        "id": "eeOrDXy-5vZZ",
        "colab": {
          "base_uri": "https://localhost:8080/"
        },
        "outputId": "fda5092c-593d-4deb-ff10-767702f319ed"
      },
      "source": [
        "base_credito.isnull().sum()"
      ],
      "execution_count": null,
      "outputs": [
        {
          "output_type": "execute_result",
          "data": {
            "text/plain": [
              "ID                                                             0\n",
              "CONDICAO                                                       0\n",
              "IDADE                                                          0\n",
              "GENERO                                                         0\n",
              "DEPENDENTES                                                    0\n",
              "INSTRUÇAO                                                      0\n",
              "ESTADO_CIVIL                                                   0\n",
              "RENDA                                                          0\n",
              "TIPO_DO_CARTAO                                                 0\n",
              "TEMPO(MESES)                                                   0\n",
              "PRODUTOS_ATIVOS                                                0\n",
              "PERIODO_INATIVO                                                0\n",
              "CONTATOS_COM_BANCO                                             0\n",
              "LIMITE_DE_CREDITO                                              0\n",
              "SALDO_TOTAL_NAO_PAGO                                           0\n",
              "DIFRENCA_MEDIA_ENTRE_LIMITE_CARTAO_E _SALDO_NA CONTA           0\n",
              "MUDANCA_NAS_DESPESAS_DO_CLIENTE_ENTRE O_4º_E_O_1º-TRIMESTRE    0\n",
              "VALOR_TOTAL_DAS_TRANSACOES                                     0\n",
              "NUMERO_DE_TRANSACOES                                           0\n",
              "ALTERACAO_NO_NUMERO_DE_TRANSACOES_ENTRE_0_4°_E_1°_TRIMESTRE    0\n",
              "TAXA_DE_UTILIZACAO_DE_CREDITO                                  0\n",
              "dtype: int64"
            ]
          },
          "metadata": {
            "tags": []
          },
          "execution_count": 87
        }
      ]
    },
    {
      "cell_type": "code",
      "metadata": {
        "colab": {
          "base_uri": "https://localhost:8080/",
          "height": 329
        },
        "id": "qxYXntWLMcih",
        "outputId": "1bd51106-1da3-4673-d078-b3e668571deb"
      },
      "source": [
        "base_credito.describe()"
      ],
      "execution_count": null,
      "outputs": [
        {
          "output_type": "execute_result",
          "data": {
            "text/html": [
              "<div>\n",
              "<style scoped>\n",
              "    .dataframe tbody tr th:only-of-type {\n",
              "        vertical-align: middle;\n",
              "    }\n",
              "\n",
              "    .dataframe tbody tr th {\n",
              "        vertical-align: top;\n",
              "    }\n",
              "\n",
              "    .dataframe thead th {\n",
              "        text-align: right;\n",
              "    }\n",
              "</style>\n",
              "<table border=\"1\" class=\"dataframe\">\n",
              "  <thead>\n",
              "    <tr style=\"text-align: right;\">\n",
              "      <th></th>\n",
              "      <th>ID</th>\n",
              "      <th>CONDICAO</th>\n",
              "      <th>IDADE</th>\n",
              "      <th>DEPENDENTES</th>\n",
              "      <th>TEMPO(MESES)</th>\n",
              "      <th>PRODUTOS_ATIVOS</th>\n",
              "      <th>PERIODO_INATIVO</th>\n",
              "      <th>CONTATOS_COM_BANCO</th>\n",
              "      <th>LIMITE_DE_CREDITO</th>\n",
              "      <th>SALDO_TOTAL_NAO_PAGO</th>\n",
              "      <th>DIFRENCA_MEDIA_ENTRE_LIMITE_CARTAO_E _SALDO_NA CONTA</th>\n",
              "      <th>MUDANCA_NAS_DESPESAS_DO_CLIENTE_ENTRE O_4º_E_O_1º-TRIMESTRE</th>\n",
              "      <th>VALOR_TOTAL_DAS_TRANSACOES</th>\n",
              "      <th>NUMERO_DE_TRANSACOES</th>\n",
              "      <th>ALTERACAO_NO_NUMERO_DE_TRANSACOES_ENTRE_0_4°_E_1°_TRIMESTRE</th>\n",
              "      <th>TAXA_DE_UTILIZACAO_DE_CREDITO</th>\n",
              "    </tr>\n",
              "  </thead>\n",
              "  <tbody>\n",
              "    <tr>\n",
              "      <th>count</th>\n",
              "      <td>1.012700e+04</td>\n",
              "      <td>10127.000000</td>\n",
              "      <td>10127.000000</td>\n",
              "      <td>10127.000000</td>\n",
              "      <td>10127.000000</td>\n",
              "      <td>10127.000000</td>\n",
              "      <td>10127.000000</td>\n",
              "      <td>10127.000000</td>\n",
              "      <td>10127.000000</td>\n",
              "      <td>10127.000000</td>\n",
              "      <td>10127.000000</td>\n",
              "      <td>10127.000000</td>\n",
              "      <td>10127.000000</td>\n",
              "      <td>10127.000000</td>\n",
              "      <td>10127.000000</td>\n",
              "      <td>10127.000000</td>\n",
              "    </tr>\n",
              "    <tr>\n",
              "      <th>mean</th>\n",
              "      <td>7.391776e+08</td>\n",
              "      <td>0.160660</td>\n",
              "      <td>46.325960</td>\n",
              "      <td>2.346203</td>\n",
              "      <td>35.928409</td>\n",
              "      <td>3.812580</td>\n",
              "      <td>2.341167</td>\n",
              "      <td>2.455317</td>\n",
              "      <td>8631.953698</td>\n",
              "      <td>1162.814061</td>\n",
              "      <td>7469.139637</td>\n",
              "      <td>0.759941</td>\n",
              "      <td>4404.086304</td>\n",
              "      <td>64.858695</td>\n",
              "      <td>0.712222</td>\n",
              "      <td>0.274894</td>\n",
              "    </tr>\n",
              "    <tr>\n",
              "      <th>std</th>\n",
              "      <td>3.690378e+07</td>\n",
              "      <td>0.367235</td>\n",
              "      <td>8.016814</td>\n",
              "      <td>1.298908</td>\n",
              "      <td>7.986416</td>\n",
              "      <td>1.554408</td>\n",
              "      <td>1.010622</td>\n",
              "      <td>1.106225</td>\n",
              "      <td>9088.776650</td>\n",
              "      <td>814.987335</td>\n",
              "      <td>9090.685324</td>\n",
              "      <td>0.219207</td>\n",
              "      <td>3397.129254</td>\n",
              "      <td>23.472570</td>\n",
              "      <td>0.238086</td>\n",
              "      <td>0.275691</td>\n",
              "    </tr>\n",
              "    <tr>\n",
              "      <th>min</th>\n",
              "      <td>7.080821e+08</td>\n",
              "      <td>0.000000</td>\n",
              "      <td>26.000000</td>\n",
              "      <td>0.000000</td>\n",
              "      <td>13.000000</td>\n",
              "      <td>1.000000</td>\n",
              "      <td>0.000000</td>\n",
              "      <td>0.000000</td>\n",
              "      <td>1438.300000</td>\n",
              "      <td>0.000000</td>\n",
              "      <td>3.000000</td>\n",
              "      <td>0.000000</td>\n",
              "      <td>510.000000</td>\n",
              "      <td>10.000000</td>\n",
              "      <td>0.000000</td>\n",
              "      <td>0.000000</td>\n",
              "    </tr>\n",
              "    <tr>\n",
              "      <th>25%</th>\n",
              "      <td>7.130368e+08</td>\n",
              "      <td>0.000000</td>\n",
              "      <td>41.000000</td>\n",
              "      <td>1.000000</td>\n",
              "      <td>31.000000</td>\n",
              "      <td>3.000000</td>\n",
              "      <td>2.000000</td>\n",
              "      <td>2.000000</td>\n",
              "      <td>2555.000000</td>\n",
              "      <td>359.000000</td>\n",
              "      <td>1324.500000</td>\n",
              "      <td>0.631000</td>\n",
              "      <td>2155.500000</td>\n",
              "      <td>45.000000</td>\n",
              "      <td>0.582000</td>\n",
              "      <td>0.023000</td>\n",
              "    </tr>\n",
              "    <tr>\n",
              "      <th>50%</th>\n",
              "      <td>7.179264e+08</td>\n",
              "      <td>0.000000</td>\n",
              "      <td>46.000000</td>\n",
              "      <td>2.000000</td>\n",
              "      <td>36.000000</td>\n",
              "      <td>4.000000</td>\n",
              "      <td>2.000000</td>\n",
              "      <td>2.000000</td>\n",
              "      <td>4549.000000</td>\n",
              "      <td>1276.000000</td>\n",
              "      <td>3474.000000</td>\n",
              "      <td>0.736000</td>\n",
              "      <td>3899.000000</td>\n",
              "      <td>67.000000</td>\n",
              "      <td>0.702000</td>\n",
              "      <td>0.176000</td>\n",
              "    </tr>\n",
              "    <tr>\n",
              "      <th>75%</th>\n",
              "      <td>7.731435e+08</td>\n",
              "      <td>0.000000</td>\n",
              "      <td>52.000000</td>\n",
              "      <td>3.000000</td>\n",
              "      <td>40.000000</td>\n",
              "      <td>5.000000</td>\n",
              "      <td>3.000000</td>\n",
              "      <td>3.000000</td>\n",
              "      <td>11067.500000</td>\n",
              "      <td>1784.000000</td>\n",
              "      <td>9859.000000</td>\n",
              "      <td>0.859000</td>\n",
              "      <td>4741.000000</td>\n",
              "      <td>81.000000</td>\n",
              "      <td>0.818000</td>\n",
              "      <td>0.503000</td>\n",
              "    </tr>\n",
              "    <tr>\n",
              "      <th>max</th>\n",
              "      <td>8.283431e+08</td>\n",
              "      <td>1.000000</td>\n",
              "      <td>73.000000</td>\n",
              "      <td>5.000000</td>\n",
              "      <td>56.000000</td>\n",
              "      <td>6.000000</td>\n",
              "      <td>6.000000</td>\n",
              "      <td>6.000000</td>\n",
              "      <td>34516.000000</td>\n",
              "      <td>2517.000000</td>\n",
              "      <td>34516.000000</td>\n",
              "      <td>3.397000</td>\n",
              "      <td>18484.000000</td>\n",
              "      <td>139.000000</td>\n",
              "      <td>3.714000</td>\n",
              "      <td>0.999000</td>\n",
              "    </tr>\n",
              "  </tbody>\n",
              "</table>\n",
              "</div>"
            ],
            "text/plain": [
              "                 ID  ...  TAXA_DE_UTILIZACAO_DE_CREDITO\n",
              "count  1.012700e+04  ...                   10127.000000\n",
              "mean   7.391776e+08  ...                       0.274894\n",
              "std    3.690378e+07  ...                       0.275691\n",
              "min    7.080821e+08  ...                       0.000000\n",
              "25%    7.130368e+08  ...                       0.023000\n",
              "50%    7.179264e+08  ...                       0.176000\n",
              "75%    7.731435e+08  ...                       0.503000\n",
              "max    8.283431e+08  ...                       0.999000\n",
              "\n",
              "[8 rows x 16 columns]"
            ]
          },
          "metadata": {
            "tags": []
          },
          "execution_count": 88
        }
      ]
    },
    {
      "cell_type": "code",
      "metadata": {
        "colab": {
          "base_uri": "https://localhost:8080/",
          "height": 1000
        },
        "id": "JGrthm6LPSn8",
        "outputId": "be0866a5-616b-4435-e0d2-491362eb7f1b"
      },
      "source": [
        "base_credito.hist(figsize=(30,20,),bins=15);"
      ],
      "execution_count": null,
      "outputs": [
        {
          "output_type": "display_data",
          "data": {
            "image/png": "[encoded data removed]",
            "text/plain": [
              "<Figure size 2160x1440 with 16 Axes>"
            ]
          },
          "metadata": {
            "tags": [],
            "needs_background": "light"
          }
        }
      ]
    },
    {
      "cell_type": "code",
      "metadata": {
        "colab": {
          "base_uri": "https://localhost:8080/",
          "height": 369
        },
        "id": "2TSJy0b-W1l5",
        "outputId": "5cd89ca4-5a6b-413c-efe3-c87db2567b7f"
      },
      "source": [
        "sns.displot(base_credito['MUDANCA_NAS_DESPESAS_DO_CLIENTE_ENTRE O_4º_E_O_1º-TRIMESTRE'], bins=35);"
      ],
      "execution_count": null,
      "outputs": [
        {
          "output_type": "display_data",
          "data": {
            "image/png": "[encoded data removed]",
            "text/plain": [
              "<Figure size 360x360 with 1 Axes>"
            ]
          },
          "metadata": {
            "tags": [],
            "needs_background": "light"
          }
        }
      ]
    },
    {
      "cell_type": "code",
      "metadata": {
        "colab": {
          "base_uri": "https://localhost:8080/",
          "height": 369
        },
        "id": "TdiVoK4dbUBI",
        "outputId": "d32589da-61f4-443b-9b51-84af696cfe8d"
      },
      "source": [
        "sns.displot(base_credito['LIMITE_DE_CREDITO'], bins=35);"
      ],
      "execution_count": null,
      "outputs": [
        {
          "output_type": "display_data",
          "data": {
            "image/png": "[encoded data removed]",
            "text/plain": [
              "<Figure size 360x360 with 1 Axes>"
            ]
          },
          "metadata": {
            "tags": [],
            "needs_background": "light"
          }
        }
      ]
    },
    {
      "cell_type": "code",
      "metadata": {
        "colab": {
          "base_uri": "https://localhost:8080/",
          "height": 369
        },
        "id": "aphbTFXAeDQ5",
        "outputId": "374d0df0-0208-4231-bec8-91470cc6bd05"
      },
      "source": [
        "sns.displot(base_credito['DIFRENCA_MEDIA_ENTRE_LIMITE_CARTAO_E _SALDO_NA CONTA'], bins=35);"
      ],
      "execution_count": null,
      "outputs": [
        {
          "output_type": "display_data",
          "data": {
            "image/png": "[encoded data removed]",
            "text/plain": [
              "<Figure size 360x360 with 1 Axes>"
            ]
          },
          "metadata": {
            "tags": [],
            "needs_background": "light"
          }
        }
      ]
    },
    {
      "cell_type": "code",
      "metadata": {
        "id": "KB33w-NkVN3T"
      },
      "source": [
        "def total(linha):\n",
        "    if linha <= 6000 :\n",
        "        return \"BAIXO\"\n",
        "\n",
        "    if  6000 < linha <= 12000:\n",
        "        return \"MEDIO\"\n",
        "\n",
        "    if linha > 12000:\n",
        "        return \"ALTO\"\n",
        "         \n",
        "base_credito[\"NIVEL_COMPRAS\"] = base_credito[\"VALOR_TOTAL_DAS_TRANSACOES\"].apply(total) "
      ],
      "execution_count": null,
      "outputs": []
    },
    {
      "cell_type": "code",
      "metadata": {
        "id": "Jy85CnTmSPbR"
      },
      "source": [
        "def nivel(linha):\n",
        "    if linha <= 4549 :\n",
        "        return \"BAIXO\"\n",
        "\n",
        "    if  3735 < linha <= 11067.5:\n",
        "        return \"MEDIO\"\n",
        "\n",
        "    if linha > 11067.5:\n",
        "        return \"ALTO\"\n",
        "         \n",
        "base_credito[\"NIVEL_CREDITO\"] = base_credito[\"LIMITE_DE_CREDITO\"].apply(nivel) "
      ],
      "execution_count": null,
      "outputs": []
    },
    {
      "cell_type": "code",
      "metadata": {
        "id": "-3N05gZ-L7Nl"
      },
      "source": [
        "def despesas(linha):\n",
        "    if linha < 0.582 :\n",
        "        return \"BAIXO\"\n",
        "\n",
        "    if  0.582 <= linha <= 0.702:\n",
        "        return \"MEDIO\"\n",
        "\n",
        "    if linha > 0.702:\n",
        "        return \"ALTO\"\n",
        "         \n",
        "base_credito['AUMENTO_DESPESAS_CLIENTE'] = base_credito[\"MUDANCA_NAS_DESPESAS_DO_CLIENTE_ENTRE O_4º_E_O_1º-TRIMESTRE\"].apply(despesas)"
      ],
      "execution_count": null,
      "outputs": []
    },
    {
      "cell_type": "code",
      "metadata": {
        "id": "I-z5pzi9JWiZ"
      },
      "source": [
        "def diferenca(linha):\n",
        "    if linha <= 5000 :\n",
        "        return \"BAIXO\"\n",
        "\n",
        "    if  5000 < linha <= 15000:\n",
        "        return \"MEDIO\"\n",
        "\n",
        "    if linha > 15000:\n",
        "        return \"ALTO\"\n",
        "         \n",
        "base_credito[\"NIVEL_DIFERENCA_SALDO_CONTA/CARTAO\"] = base_credito[\"DIFRENCA_MEDIA_ENTRE_LIMITE_CARTAO_E _SALDO_NA CONTA\"].apply(diferenca) "
      ],
      "execution_count": null,
      "outputs": []
    },
    {
      "cell_type": "code",
      "metadata": {
        "id": "u7Pu8JvvGB3s"
      },
      "source": [
        "def saldo_devedor(linha):\n",
        "    if linha <= 500 :\n",
        "        return \"BAIXO\"\n",
        "\n",
        "    if  500 < linha <= 2000:\n",
        "        return \"MEDIO\"\n",
        "\n",
        "    if linha > 2000:\n",
        "        return \"ALTO\"\n",
        "         \n",
        "base_credito[\"NIVEL_SALDO_NAO_PAGO\"] = base_credito[\"SALDO_TOTAL_NAO_PAGO\"].apply(saldo_devedor) "
      ],
      "execution_count": null,
      "outputs": []
    },
    {
      "cell_type": "code",
      "metadata": {
        "id": "RUL4KWdAQ92a"
      },
      "source": [
        "def taxa(linha):\n",
        "    if linha <= 0.2 :\n",
        "        return \"BAIXO\"\n",
        "\n",
        "    if  0.2 < linha <= 0.6:\n",
        "        return \"MEDIO\"\n",
        "\n",
        "    if linha > 0.6:\n",
        "        return \"ALTO\"\n",
        "         \n",
        "base_credito[\"NIVEL_UTILIZACAO_DE_CREDITO\"] = base_credito[\"TAXA_DE_UTILIZACAO_DE_CREDITO\"].apply(taxa) "
      ],
      "execution_count": null,
      "outputs": []
    },
    {
      "cell_type": "code",
      "metadata": {
        "id": "J9M6mqL-WSDB"
      },
      "source": [
        "def total(linha):\n",
        "    if linha <= 6000 :\n",
        "        return \"BAIXO\"\n",
        "\n",
        "    if  6000 < linha <= 12000:\n",
        "        return \"MEDIO\"\n",
        "\n",
        "    if linha > 12000:\n",
        "        return \"ALTO\"\n",
        "         \n",
        "base_credito[\"NIVEL_VALOR_TRANSACOES\"] = base_credito[\"VALOR_TOTAL_DAS_TRANSACOES\"].apply(total) "
      ],
      "execution_count": null,
      "outputs": []
    },
    {
      "cell_type": "code",
      "metadata": {
        "colab": {
          "base_uri": "https://localhost:8080/",
          "height": 402
        },
        "id": "P3DEeDU4PMzr",
        "outputId": "5fa738f9-7001-4793-9b99-d9b91d68743a"
      },
      "source": [
        "base_credito.head(5)"
      ],
      "execution_count": null,
      "outputs": [
        {
          "output_type": "execute_result",
          "data": {
            "text/html": [
              "<div>\n",
              "<style scoped>\n",
              "    .dataframe tbody tr th:only-of-type {\n",
              "        vertical-align: middle;\n",
              "    }\n",
              "\n",
              "    .dataframe tbody tr th {\n",
              "        vertical-align: top;\n",
              "    }\n",
              "\n",
              "    .dataframe thead th {\n",
              "        text-align: right;\n",
              "    }\n",
              "</style>\n",
              "<table border=\"1\" class=\"dataframe\">\n",
              "  <thead>\n",
              "    <tr style=\"text-align: right;\">\n",
              "      <th></th>\n",
              "      <th>ID</th>\n",
              "      <th>CONDICAO</th>\n",
              "      <th>IDADE</th>\n",
              "      <th>GENERO</th>\n",
              "      <th>DEPENDENTES</th>\n",
              "      <th>INSTRUÇAO</th>\n",
              "      <th>ESTADO_CIVIL</th>\n",
              "      <th>RENDA</th>\n",
              "      <th>TIPO_DO_CARTAO</th>\n",
              "      <th>TEMPO(MESES)</th>\n",
              "      <th>PRODUTOS_ATIVOS</th>\n",
              "      <th>PERIODO_INATIVO</th>\n",
              "      <th>CONTATOS_COM_BANCO</th>\n",
              "      <th>LIMITE_DE_CREDITO</th>\n",
              "      <th>SALDO_TOTAL_NAO_PAGO</th>\n",
              "      <th>DIFRENCA_MEDIA_ENTRE_LIMITE_CARTAO_E _SALDO_NA CONTA</th>\n",
              "      <th>MUDANCA_NAS_DESPESAS_DO_CLIENTE_ENTRE O_4º_E_O_1º-TRIMESTRE</th>\n",
              "      <th>VALOR_TOTAL_DAS_TRANSACOES</th>\n",
              "      <th>NUMERO_DE_TRANSACOES</th>\n",
              "      <th>ALTERACAO_NO_NUMERO_DE_TRANSACOES_ENTRE_0_4°_E_1°_TRIMESTRE</th>\n",
              "      <th>TAXA_DE_UTILIZACAO_DE_CREDITO</th>\n",
              "      <th>NIVEL_COMPRAS</th>\n",
              "      <th>NIVEL_CREDITO</th>\n",
              "      <th>AUMENTO_DESPESAS_CLIENTE</th>\n",
              "      <th>NIVEL_DIFERENCA_SALDO_CONTA/CARTAO</th>\n",
              "      <th>NIVEL_SALDO_NAO_PAGO</th>\n",
              "      <th>NIVEL_UTILIZACAO_DE_CREDITO</th>\n",
              "      <th>NIVEL_VALOR_TRANSACOES</th>\n",
              "    </tr>\n",
              "  </thead>\n",
              "  <tbody>\n",
              "    <tr>\n",
              "      <th>0</th>\n",
              "      <td>768805383</td>\n",
              "      <td>0</td>\n",
              "      <td>45</td>\n",
              "      <td>M</td>\n",
              "      <td>3</td>\n",
              "      <td>High School</td>\n",
              "      <td>Married</td>\n",
              "      <td>$60K - $80K</td>\n",
              "      <td>Blue</td>\n",
              "      <td>39</td>\n",
              "      <td>5</td>\n",
              "      <td>1</td>\n",
              "      <td>3</td>\n",
              "      <td>12691.0</td>\n",
              "      <td>777</td>\n",
              "      <td>11914.0</td>\n",
              "      <td>1.335</td>\n",
              "      <td>1144</td>\n",
              "      <td>42</td>\n",
              "      <td>1.625</td>\n",
              "      <td>0.061</td>\n",
              "      <td>BAIXO</td>\n",
              "      <td>ALTO</td>\n",
              "      <td>ALTO</td>\n",
              "      <td>MEDIO</td>\n",
              "      <td>MEDIO</td>\n",
              "      <td>BAIXO</td>\n",
              "      <td>BAIXO</td>\n",
              "    </tr>\n",
              "    <tr>\n",
              "      <th>1</th>\n",
              "      <td>818770008</td>\n",
              "      <td>0</td>\n",
              "      <td>49</td>\n",
              "      <td>F</td>\n",
              "      <td>5</td>\n",
              "      <td>Graduate</td>\n",
              "      <td>Single</td>\n",
              "      <td>Less than $40K</td>\n",
              "      <td>Blue</td>\n",
              "      <td>44</td>\n",
              "      <td>6</td>\n",
              "      <td>1</td>\n",
              "      <td>2</td>\n",
              "      <td>8256.0</td>\n",
              "      <td>864</td>\n",
              "      <td>7392.0</td>\n",
              "      <td>1.541</td>\n",
              "      <td>1291</td>\n",
              "      <td>33</td>\n",
              "      <td>3.714</td>\n",
              "      <td>0.105</td>\n",
              "      <td>BAIXO</td>\n",
              "      <td>MEDIO</td>\n",
              "      <td>ALTO</td>\n",
              "      <td>MEDIO</td>\n",
              "      <td>MEDIO</td>\n",
              "      <td>BAIXO</td>\n",
              "      <td>BAIXO</td>\n",
              "    </tr>\n",
              "    <tr>\n",
              "      <th>2</th>\n",
              "      <td>713982108</td>\n",
              "      <td>0</td>\n",
              "      <td>51</td>\n",
              "      <td>M</td>\n",
              "      <td>3</td>\n",
              "      <td>Graduate</td>\n",
              "      <td>Married</td>\n",
              "      <td>$80K - $120K</td>\n",
              "      <td>Blue</td>\n",
              "      <td>36</td>\n",
              "      <td>4</td>\n",
              "      <td>1</td>\n",
              "      <td>0</td>\n",
              "      <td>3418.0</td>\n",
              "      <td>0</td>\n",
              "      <td>3418.0</td>\n",
              "      <td>2.594</td>\n",
              "      <td>1887</td>\n",
              "      <td>20</td>\n",
              "      <td>2.333</td>\n",
              "      <td>0.000</td>\n",
              "      <td>BAIXO</td>\n",
              "      <td>BAIXO</td>\n",
              "      <td>ALTO</td>\n",
              "      <td>BAIXO</td>\n",
              "      <td>BAIXO</td>\n",
              "      <td>BAIXO</td>\n",
              "      <td>BAIXO</td>\n",
              "    </tr>\n",
              "    <tr>\n",
              "      <th>3</th>\n",
              "      <td>769911858</td>\n",
              "      <td>0</td>\n",
              "      <td>40</td>\n",
              "      <td>F</td>\n",
              "      <td>4</td>\n",
              "      <td>High School</td>\n",
              "      <td>Unknown</td>\n",
              "      <td>Less than $40K</td>\n",
              "      <td>Blue</td>\n",
              "      <td>34</td>\n",
              "      <td>3</td>\n",
              "      <td>4</td>\n",
              "      <td>1</td>\n",
              "      <td>3313.0</td>\n",
              "      <td>2517</td>\n",
              "      <td>796.0</td>\n",
              "      <td>1.405</td>\n",
              "      <td>1171</td>\n",
              "      <td>20</td>\n",
              "      <td>2.333</td>\n",
              "      <td>0.760</td>\n",
              "      <td>BAIXO</td>\n",
              "      <td>BAIXO</td>\n",
              "      <td>ALTO</td>\n",
              "      <td>BAIXO</td>\n",
              "      <td>ALTO</td>\n",
              "      <td>ALTO</td>\n",
              "      <td>BAIXO</td>\n",
              "    </tr>\n",
              "    <tr>\n",
              "      <th>4</th>\n",
              "      <td>709106358</td>\n",
              "      <td>0</td>\n",
              "      <td>40</td>\n",
              "      <td>M</td>\n",
              "      <td>3</td>\n",
              "      <td>Uneducated</td>\n",
              "      <td>Married</td>\n",
              "      <td>$60K - $80K</td>\n",
              "      <td>Blue</td>\n",
              "      <td>21</td>\n",
              "      <td>5</td>\n",
              "      <td>1</td>\n",
              "      <td>0</td>\n",
              "      <td>4716.0</td>\n",
              "      <td>0</td>\n",
              "      <td>4716.0</td>\n",
              "      <td>2.175</td>\n",
              "      <td>816</td>\n",
              "      <td>28</td>\n",
              "      <td>2.500</td>\n",
              "      <td>0.000</td>\n",
              "      <td>BAIXO</td>\n",
              "      <td>MEDIO</td>\n",
              "      <td>ALTO</td>\n",
              "      <td>BAIXO</td>\n",
              "      <td>BAIXO</td>\n",
              "      <td>BAIXO</td>\n",
              "      <td>BAIXO</td>\n",
              "    </tr>\n",
              "  </tbody>\n",
              "</table>\n",
              "</div>"
            ],
            "text/plain": [
              "          ID  CONDICAO  ...  NIVEL_UTILIZACAO_DE_CREDITO NIVEL_VALOR_TRANSACOES\n",
              "0  768805383         0  ...                        BAIXO                  BAIXO\n",
              "1  818770008         0  ...                        BAIXO                  BAIXO\n",
              "2  713982108         0  ...                        BAIXO                  BAIXO\n",
              "3  769911858         0  ...                         ALTO                  BAIXO\n",
              "4  709106358         0  ...                        BAIXO                  BAIXO\n",
              "\n",
              "[5 rows x 28 columns]"
            ]
          },
          "metadata": {
            "tags": []
          },
          "execution_count": 100
        }
      ]
    },
    {
      "cell_type": "code",
      "metadata": {
        "id": "SVhNJde-NJXR",
        "colab": {
          "base_uri": "https://localhost:8080/"
        },
        "outputId": "ace9391e-33a8-4dda-c318-882b5ae9a28d"
      },
      "source": [
        "base_credito['CONDICAO'].value_counts()"
      ],
      "execution_count": null,
      "outputs": [
        {
          "output_type": "execute_result",
          "data": {
            "text/plain": [
              "0    8500\n",
              "1    1627\n",
              "Name: CONDICAO, dtype: int64"
            ]
          },
          "metadata": {
            "tags": []
          },
          "execution_count": 101
        }
      ]
    },
    {
      "cell_type": "markdown",
      "metadata": {
        "id": "4tMe8OkqASIz"
      },
      "source": [
        "# Visualização dos dados."
      ]
    },
    {
      "cell_type": "code",
      "metadata": {
        "colab": {
          "base_uri": "https://localhost:8080/",
          "height": 370
        },
        "id": "kb8obNkzQ9uT",
        "outputId": "432fbc16-e33b-4f05-d3b5-aac15c9f2230"
      },
      "source": [
        "plt.figure(figsize=[20,5])\n",
        "sns.countplot(x = 'IDADE', hue = 'CONDICAO', data= base_credito);\n",
        "\n",
        "''' A análise do gráfico relacionando a idade do cliente à condição de ter abandonado o serviço de crédito,\n",
        "permite verificar, que apesar dos desistentes estar concentrados na faixa etária entre 40 e 55 anos, não parece\n",
        "ser este, um fator determinante.'''\n"
      ],
      "execution_count": null,
      "outputs": [
        {
          "output_type": "execute_result",
          "data": {
            "application/vnd.google.colaboratory.intrinsic+json": {
              "type": "string"
            },
            "text/plain": [
              "' A análise do gráfico relacionando a idade do cliente à condição de ter abandonado o serviço de crédito,\\npermite verificar, que apesar dos desistentes estar concentrados na faixa etária entre 40 e 55 anos, não parece\\nser este, um fator determinante.'"
            ]
          },
          "metadata": {
            "tags": []
          },
          "execution_count": 102
        },
        {
          "output_type": "display_data",
          "data": {
            "image/png": "[encoded data removed]",
            "text/plain": [
              "<Figure size 1440x360 with 1 Axes>"
            ]
          },
          "metadata": {
            "tags": [],
            "needs_background": "light"
          }
        }
      ]
    },
    {
      "cell_type": "code",
      "metadata": {
        "colab": {
          "base_uri": "https://localhost:8080/",
          "height": 352
        },
        "id": "hHLRcUDfHUdS",
        "outputId": "dd145f0c-df23-4c75-8d3d-aaf0a330f8cd"
      },
      "source": [
        "plt.figure(figsize=[20,5])\n",
        "sns.countplot(x = 'DEPENDENTES', hue = 'CONDICAO', data= base_credito,);\n",
        "\n",
        "''' Clientes com 2 e 3 dependentes possuem a maior tendência a abandonar o serviço,apesar de serem também,\n",
        "mais numerosos em relação aos demais, não parecendo este, ser um fator determinante.'''"
      ],
      "execution_count": null,
      "outputs": [
        {
          "output_type": "execute_result",
          "data": {
            "application/vnd.google.colaboratory.intrinsic+json": {
              "type": "string"
            },
            "text/plain": [
              "' Clientes com 2 e 3 dependentes possuem a maior tendência a abandonar o serviço,apesar de serem também,\\nmais numerosos em relação aos demais, não parecendo este, ser um fator determinante.'"
            ]
          },
          "metadata": {
            "tags": []
          },
          "execution_count": 103
        },
        {
          "output_type": "display_data",
          "data": {
            "image/png": "[encoded data removed]",
            "text/plain": [
              "<Figure size 1440x360 with 1 Axes>"
            ]
          },
          "metadata": {
            "tags": [],
            "needs_background": "light"
          }
        }
      ]
    },
    {
      "cell_type": "code",
      "metadata": {
        "colab": {
          "base_uri": "https://localhost:8080/",
          "height": 388
        },
        "id": "pyzcfTyxJYEr",
        "outputId": "c4239527-ec29-4d08-ff25-d641debabe6f"
      },
      "source": [
        "plt.figure(figsize=[20,5])\n",
        "sns.countplot(x = 'TEMPO(MESES)', hue = 'CONDICAO', data= base_credito,);\n",
        "\n",
        "''' O período mais emblemático parece ser o de 36 meses, onde temos o amior número de clientes, e proporcionalmente\n",
        "o maior número de desistências, como a maioria dos clientes utiliza o tipo de cartão 'Blue',há de se verificar se\n",
        "há insatisfação com este serviço.(Observação: como o valor de 36 anos é a medida central do atributo, verifica-se\n",
        "que essa discrepância do número de clientes com 36 anos, pode ter sido causada pela substituição de dados NAN, pela\n",
        "mediana do atributo).'''"
      ],
      "execution_count": null,
      "outputs": [
        {
          "output_type": "execute_result",
          "data": {
            "application/vnd.google.colaboratory.intrinsic+json": {
              "type": "string"
            },
            "text/plain": [
              "\" O período mais emblemático parece ser o de 36 meses, onde temos o amior número de clientes, e proporcionalmente\\no maior número de desistências, como a maioria dos clientes utiliza o tipo de cartão 'Blue',há de se verificar se\\nhá insatisfação com este serviço.(Observação: como o valor de 36 anos é a medida central do atributo, verifica-se\\nque essa discrepância do número de clientes com 36 anos, pode ter sido causada pela substituição de dados NAN, pela\\nmediana do atributo).\""
            ]
          },
          "metadata": {
            "tags": []
          },
          "execution_count": 104
        },
        {
          "output_type": "display_data",
          "data": {
            "image/png": "[encoded data removed]",
            "text/plain": [
              "<Figure size 1440x360 with 1 Axes>"
            ]
          },
          "metadata": {
            "tags": [],
            "needs_background": "light"
          }
        }
      ]
    },
    {
      "cell_type": "code",
      "metadata": {
        "colab": {
          "base_uri": "https://localhost:8080/",
          "height": 357
        },
        "id": "qvF1ean4JzXX",
        "outputId": "6d8d285e-ed9c-4169-eb23-2dffb5fa8f78"
      },
      "source": [
        "plt.figure(figsize=[20,5])\n",
        "sns.countplot(x = 'PRODUTOS_ATIVOS', hue = 'CONDICAO', data= base_credito,);\n",
        "\n",
        "'''Clientes com mais que 3 produtos ativos, tendem a um nível de desistência menor; pode ser uma política\n",
        "interessante, ofertar mais produtos aos clientes com menor quantidade de produtos.'''"
      ],
      "execution_count": null,
      "outputs": [
        {
          "output_type": "execute_result",
          "data": {
            "application/vnd.google.colaboratory.intrinsic+json": {
              "type": "string"
            },
            "text/plain": [
              "'Clientes com mais que 3 produtos ativos, tendem a um nível de desistência menor; pode ser uma política\\ninteressante, ofertar mais produtos aos clientes com menor quantidade de produtos.'"
            ]
          },
          "metadata": {
            "tags": []
          },
          "execution_count": 105
        },
        {
          "output_type": "display_data",
          "data": {
            "image/png": "[encoded data removed]",
            "text/plain": [
              "<Figure size 1440x360 with 1 Axes>"
            ]
          },
          "metadata": {
            "tags": [],
            "needs_background": "light"
          }
        }
      ]
    },
    {
      "cell_type": "code",
      "metadata": {
        "colab": {
          "base_uri": "https://localhost:8080/",
          "height": 352
        },
        "id": "3ECTsrKuKCtw",
        "outputId": "73d867b3-6e9a-44c0-854d-f4e7df2382d2"
      },
      "source": [
        "plt.figure(figsize=[20,5])\n",
        "sns.countplot(x = 'GENERO', hue = 'CONDICAO', data= base_credito,);\n",
        "\n",
        "''' Clientes do sexo feminino compõe a maioria da base, e proporcionalmente, apresentam maior índice de \n",
        "desistência.'''"
      ],
      "execution_count": null,
      "outputs": [
        {
          "output_type": "execute_result",
          "data": {
            "application/vnd.google.colaboratory.intrinsic+json": {
              "type": "string"
            },
            "text/plain": [
              "' Clientes do sexo feminino compõe a maioria da base, e proporcionalmente, apresentam maior índice de \\ndesistência.'"
            ]
          },
          "metadata": {
            "tags": []
          },
          "execution_count": 106
        },
        {
          "output_type": "display_data",
          "data": {
            "image/png": "[encoded data removed]",
            "text/plain": [
              "<Figure size 1440x360 with 1 Axes>"
            ]
          },
          "metadata": {
            "tags": [],
            "needs_background": "light"
          }
        }
      ]
    },
    {
      "cell_type": "code",
      "metadata": {
        "colab": {
          "base_uri": "https://localhost:8080/",
          "height": 334
        },
        "id": "LrpXWjJ_KCgo",
        "outputId": "68fc7f64-e7c1-4ea4-83b7-149ed3b4151c"
      },
      "source": [
        "plt.figure(figsize=[20,5])\n",
        "sns.countplot(x = 'INSTRUÇAO', hue = 'CONDICAO', data= base_credito,);"
      ],
      "execution_count": null,
      "outputs": [
        {
          "output_type": "display_data",
          "data": {
            "image/png": "[encoded data removed]",
            "text/plain": [
              "<Figure size 1440x360 with 1 Axes>"
            ]
          },
          "metadata": {
            "tags": [],
            "needs_background": "light"
          }
        }
      ]
    },
    {
      "cell_type": "code",
      "metadata": {
        "colab": {
          "base_uri": "https://localhost:8080/",
          "height": 334
        },
        "id": "9srNJo3-KCD7",
        "outputId": "032c8f7f-a1b6-48ca-93e7-e759bc75b519"
      },
      "source": [
        "plt.figure(figsize=[20,5])\n",
        "sns.countplot(x = 'ESTADO_CIVIL', hue = 'CONDICAO', data= base_credito,);"
      ],
      "execution_count": null,
      "outputs": [
        {
          "output_type": "display_data",
          "data": {
            "image/png": "[encoded data removed]",
            "text/plain": [
              "<Figure size 1440x360 with 1 Axes>"
            ]
          },
          "metadata": {
            "tags": [],
            "needs_background": "light"
          }
        }
      ]
    },
    {
      "cell_type": "code",
      "metadata": {
        "colab": {
          "base_uri": "https://localhost:8080/",
          "height": 354
        },
        "id": "C_FVpWfQLU_b",
        "outputId": "cdfdebac-b49a-4862-a093-95b871ba9c2d"
      },
      "source": [
        "plt.figure(figsize=[20,5])\n",
        "sns.countplot(x = 'RENDA', hue = 'CONDICAO', data= base_credito,);\n",
        "\n",
        "''' Clientes na menor faixa de renda, compôe a maioria da base de dados e o maior índice de desistências.'''"
      ],
      "execution_count": null,
      "outputs": [
        {
          "output_type": "execute_result",
          "data": {
            "application/vnd.google.colaboratory.intrinsic+json": {
              "type": "string"
            },
            "text/plain": [
              "' Clientes na menor faixa de renda, compôe a maioria da base de dados e o maior índice de desistências.'"
            ]
          },
          "metadata": {
            "tags": []
          },
          "execution_count": 109
        },
        {
          "output_type": "display_data",
          "data": {
            "image/png": "[encoded data removed]",
            "text/plain": [
              "<Figure size 1440x360 with 1 Axes>"
            ]
          },
          "metadata": {
            "tags": [],
            "needs_background": "light"
          }
        }
      ]
    },
    {
      "cell_type": "code",
      "metadata": {
        "colab": {
          "base_uri": "https://localhost:8080/",
          "height": 354
        },
        "id": "f_MYJk9LMLOo",
        "outputId": "9197fe7a-d83d-4737-cba1-5a861b9dc27b"
      },
      "source": [
        "plt.figure(figsize=[20,5])\n",
        "sns.countplot( x = 'TIPO_DO_CARTAO', hue = 'CONDICAO', data = base_credito)\n",
        "\n",
        "''' Como citado anteriormente, o cartâo 'Blue' é o que aprenta maior número de clientes\n",
        "e proporcionalmente, maior número de deistências.'''"
      ],
      "execution_count": null,
      "outputs": [
        {
          "output_type": "execute_result",
          "data": {
            "application/vnd.google.colaboratory.intrinsic+json": {
              "type": "string"
            },
            "text/plain": [
              "\" Como citado anteriormente, o cartâo 'Blue' é o que aprenta maior número de clientes\\ne proporcionalmente, maior número de deistências.\""
            ]
          },
          "metadata": {
            "tags": []
          },
          "execution_count": 110
        },
        {
          "output_type": "display_data",
          "data": {
            "image/png": "[encoded data removed]",
            "text/plain": [
              "<Figure size 1440x360 with 1 Axes>"
            ]
          },
          "metadata": {
            "tags": [],
            "needs_background": "light"
          }
        }
      ]
    },
    {
      "cell_type": "code",
      "metadata": {
        "colab": {
          "base_uri": "https://localhost:8080/",
          "height": 354
        },
        "id": "mBOD-7SZN4nF",
        "outputId": "3b7aeba5-f617-4c53-fbaa-54389cc89576"
      },
      "source": [
        "plt.figure(figsize=[20,5])\n",
        "sns.countplot(x = 'NIVEL_SALDO_NAO_PAGO', hue = 'CONDICAO', data = base_credito)\n",
        "\n",
        "'''Alto índice de desistência em clientes que têm dívida zero, ou muito baixa com o cartâo,\n",
        "verificar se a baixa utilização do rotativo  decorre de boa taxa de adimplência ou de subutilização do serviço.'''"
      ],
      "execution_count": null,
      "outputs": [
        {
          "output_type": "execute_result",
          "data": {
            "application/vnd.google.colaboratory.intrinsic+json": {
              "type": "string"
            },
            "text/plain": [
              "'Alto índice de desistência em clientes que têm dívida zero, ou muito baixa com o cartâo,\\nverificar se a baixa utilização do rotativo  decorre de boa taxa de adimplência ou de subutilização do serviço.'"
            ]
          },
          "metadata": {
            "tags": []
          },
          "execution_count": 111
        },
        {
          "output_type": "display_data",
          "data": {
            "image/png": "[encoded data removed]",
            "text/plain": [
              "<Figure size 1440x360 with 1 Axes>"
            ]
          },
          "metadata": {
            "tags": [],
            "needs_background": "light"
          }
        }
      ]
    },
    {
      "cell_type": "code",
      "metadata": {
        "colab": {
          "base_uri": "https://localhost:8080/",
          "height": 352
        },
        "id": "hS9NmP0JO1mo",
        "outputId": "44bebd60-3399-4f14-a3be-c37fa93987fb"
      },
      "source": [
        "plt.figure(figsize=[20,5])\n",
        "sns.countplot(x = 'NIVEL_DIFERENCA_SALDO_CONTA/CARTAO', hue = 'CONDICAO', data = base_credito)"
      ],
      "execution_count": null,
      "outputs": [
        {
          "output_type": "execute_result",
          "data": {
            "text/plain": [
              "<matplotlib.axes._subplots.AxesSubplot at 0x7fbd47043410>"
            ]
          },
          "metadata": {
            "tags": []
          },
          "execution_count": 112
        },
        {
          "output_type": "display_data",
          "data": {
            "image/png": "[encoded data removed]",
            "text/plain": [
              "<Figure size 1440x360 with 1 Axes>"
            ]
          },
          "metadata": {
            "tags": [],
            "needs_background": "light"
          }
        }
      ]
    },
    {
      "cell_type": "code",
      "metadata": {
        "colab": {
          "base_uri": "https://localhost:8080/",
          "height": 354
        },
        "id": "YOl0K8_XQORA",
        "outputId": "2cb508ea-7da2-4873-b188-126f099835f7"
      },
      "source": [
        "plt.figure(figsize=[20,5])\n",
        "sns.countplot(x = 'AUMENTO_DESPESAS_CLIENTE', hue = 'CONDICAO', data = base_credito, )\n",
        "\n",
        "''' Clientes do grupo com maior aumento das despesas, foram os que mais tendera a desistir do serviço.'''"
      ],
      "execution_count": null,
      "outputs": [
        {
          "output_type": "execute_result",
          "data": {
            "application/vnd.google.colaboratory.intrinsic+json": {
              "type": "string"
            },
            "text/plain": [
              "' Clientes do grupo com maior aumento das despesas, foram os que mais tendera a desistir do serviço.'"
            ]
          },
          "metadata": {
            "tags": []
          },
          "execution_count": 113
        },
        {
          "output_type": "display_data",
          "data": {
            "image/png": "[encoded data removed]",
            "text/plain": [
              "<Figure size 1440x360 with 1 Axes>"
            ]
          },
          "metadata": {
            "tags": [],
            "needs_background": "light"
          }
        }
      ]
    },
    {
      "cell_type": "code",
      "metadata": {
        "colab": {
          "base_uri": "https://localhost:8080/",
          "height": 354
        },
        "id": "ApDf--ZxXCYu",
        "outputId": "95743f30-c35b-4de9-f2f8-a8aa26e66686"
      },
      "source": [
        "plt.figure(figsize=[20,5])\n",
        "sns.countplot(x = 'NIVEL_VALOR_TRANSACOES', hue = 'CONDICAO', data = base_credito);\n",
        "\n",
        "''' Clientes com menor nível de compras no cartâo, apresentam o maior índice de desistência do serviço, que pode\n",
        "ter sido impactado pela relação custo benefício, do serviço.'''\n"
      ],
      "execution_count": null,
      "outputs": [
        {
          "output_type": "execute_result",
          "data": {
            "application/vnd.google.colaboratory.intrinsic+json": {
              "type": "string"
            },
            "text/plain": [
              "' Clientes com menor nível de compras no cartâo, apresentam o maior índice de desistência do serviço, que pode\\nter sido impactado pela relação custo benefício, do serviço.'"
            ]
          },
          "metadata": {
            "tags": []
          },
          "execution_count": 116
        },
        {
          "output_type": "display_data",
          "data": {
            "image/png": "[encoded data removed]",
            "text/plain": [
              "<Figure size 1440x360 with 1 Axes>"
            ]
          },
          "metadata": {
            "tags": [],
            "needs_background": "light"
          }
        }
      ]
    },
    {
      "cell_type": "code",
      "metadata": {
        "colab": {
          "base_uri": "https://localhost:8080/",
          "height": 354
        },
        "id": "5G_THneJgjLq",
        "outputId": "ee0611b3-e679-4859-a723-6a3be38581ea"
      },
      "source": [
        "plt.figure(figsize=[20,5])\n",
        "sns.countplot(x = 'NIVEL_UTILIZACAO_DE_CREDITO', hue = 'CONDICAO', data = base_credito, )\n",
        "\n",
        "''' Clientes que ultilizam pouco crédito, foram impactados com um aumento substancial de despesas,\n",
        "podendo este, ser um fator determinante para o abandono do serviço.'''"
      ],
      "execution_count": null,
      "outputs": [
        {
          "output_type": "execute_result",
          "data": {
            "application/vnd.google.colaboratory.intrinsic+json": {
              "type": "string"
            },
            "text/plain": [
              "' Clientes que ultilizam pouco crédito, foram impactados com um aumento substancial de despesas,\\npodendo este, ser um fator determinante para o abandono do serviço.'"
            ]
          },
          "metadata": {
            "tags": []
          },
          "execution_count": 117
        },
        {
          "output_type": "display_data",
          "data": {
            "image/png": "[encoded data removed]",
            "text/plain": [
              "<Figure size 1440x360 with 1 Axes>"
            ]
          },
          "metadata": {
            "tags": [],
            "needs_background": "light"
          }
        }
      ]
    },
    {
      "cell_type": "code",
      "metadata": {
        "colab": {
          "base_uri": "https://localhost:8080/",
          "height": 354
        },
        "id": "zce4TZ-4YtIo",
        "outputId": "0fc6eec6-0a25-4eb7-ca6b-1611f0f3ab40"
      },
      "source": [
        "plt.figure(figsize=[20,5])\n",
        "sns.countplot(x = 'TIPO_DO_CARTAO', hue = 'AUMENTO_DESPESAS_CLIENTE', data = base_credito, )\n",
        "\n",
        "''' Clientes do tipo de cartâo 'Blue' e 'Silver, foram impactados com um aumento substancial das despesas no último\n",
        "trimestre, podendo ser este um fator determinante para cancelamento do serviço.'''"
      ],
      "execution_count": null,
      "outputs": [
        {
          "output_type": "execute_result",
          "data": {
            "application/vnd.google.colaboratory.intrinsic+json": {
              "type": "string"
            },
            "text/plain": [
              "\" Clientes do tipo de cartâo 'Blue' e 'Silver, foram impactados com um aumento substancial das despesas no último\\ntrimestre, podendo ser este um fator determinante para cancelamento do serviço.\""
            ]
          },
          "metadata": {
            "tags": []
          },
          "execution_count": 118
        },
        {
          "output_type": "display_data",
          "data": {
            "image/png": "[encoded data removed]",
            "text/plain": [
              "<Figure size 1440x360 with 1 Axes>"
            ]
          },
          "metadata": {
            "tags": [],
            "needs_background": "light"
          }
        }
      ]
    },
    {
      "cell_type": "code",
      "metadata": {
        "id": "b2grMD_KITXh",
        "colab": {
          "base_uri": "https://localhost:8080/",
          "height": 498
        },
        "outputId": "3971bc52-6de5-4d1c-a065-71523772150e"
      },
      "source": [
        "plt.figure(figsize=[20,5])\n",
        "sns.countplot(x = 'RENDA', hue = 'TIPO_DO_CARTAO', data = base_credito, )\n",
        "\n",
        "''' Há muitos clientes com um nível de renda alto, que ultilizam o cartão 'Blue', oferecer um serviço superior,\n",
        "pode gerar mais rentabilidade e fidelidade, na renda entre $80000 e $120000, temos 1395 clientes com o cartão\n",
        "'BLUE' e 117 clientes com o cartão 'SILVER'.Na faixa mais alta de renda temos 645 clientes com o cartão 'BLUE',\n",
        "e 60 com o cartâo 'SILVER' '''\n",
        "\n",
        "renda_80_120 = base_credito[base_credito['RENDA'] == '$80K - $120K']['TIPO_DO_CARTAO'].value_counts()\n",
        "renda_120 = base_credito[base_credito['RENDA'] == '$120K +']['TIPO_DO_CARTAO'].value_counts()\n",
        "print(renda_80_120, renda_120)"
      ],
      "execution_count": null,
      "outputs": [
        {
          "output_type": "stream",
          "text": [
            "Blue        1395\n",
            "Silver       117\n",
            "Gold          21\n",
            "Platinum       2\n",
            "Name: TIPO_DO_CARTAO, dtype: int64 Blue        645\n",
            "Silver       60\n",
            "Gold         18\n",
            "Platinum      4\n",
            "Name: TIPO_DO_CARTAO, dtype: int64\n"
          ],
          "name": "stdout"
        },
        {
          "output_type": "display_data",
          "data": {
            "image/png": "[encoded data removed]",
            "text/plain": [
              "<Figure size 1440x360 with 1 Axes>"
            ]
          },
          "metadata": {
            "tags": [],
            "needs_background": "light"
          }
        }
      ]
    },
    {
      "cell_type": "code",
      "metadata": {
        "id": "bPAJWda0JRK5",
        "colab": {
          "base_uri": "https://localhost:8080/",
          "height": 462
        },
        "outputId": "081619db-4881-4b28-ff53-4f1a587abf76"
      },
      "source": [
        "plt.figure(figsize=[20,5])\n",
        "sns.countplot(x = 'RENDA', hue = 'NIVEL_DIFERENCA_SALDO_CONTA/CARTAO', data = base_credito, )\n",
        "\n",
        "''' Clientes situados na maior faixa de renda, são os que apresentam maior diferença entre saldo na conta,\n",
        " e limite do cartâo, aumentar seu limite pode gerar uma rentabilidade maior, sâo 399 clientes com alto nível\n",
        " de renda, e limite de crédito baixo'''\n",
        "\n",
        "renda_80_120 = base_credito[base_credito['RENDA'] == '$80K - $120K']['NIVEL_DIFERENCA_SALDO_CONTA/CARTAO'].value_counts()\n",
        "renda_120 = base_credito[base_credito['RENDA'] == '$120K +']['NIVEL_DIFERENCA_SALDO_CONTA/CARTAO'].value_counts()\n",
        "print(renda_80_120, renda_120)"
      ],
      "execution_count": null,
      "outputs": [
        {
          "output_type": "stream",
          "text": [
            "ALTO     646\n",
            "MEDIO    470\n",
            "BAIXO    419\n",
            "Name: NIVEL_DIFERENCA_SALDO_CONTA/CARTAO, dtype: int64 ALTO     399\n",
            "MEDIO    192\n",
            "BAIXO    136\n",
            "Name: NIVEL_DIFERENCA_SALDO_CONTA/CARTAO, dtype: int64\n"
          ],
          "name": "stdout"
        },
        {
          "output_type": "display_data",
          "data": {
            "image/png": "[encoded data removed]",
            "text/plain": [
              "<Figure size 1440x360 with 1 Axes>"
            ]
          },
          "metadata": {
            "tags": [],
            "needs_background": "light"
          }
        }
      ]
    },
    {
      "cell_type": "code",
      "metadata": {
        "id": "IFVqbg1cKmHJ",
        "colab": {
          "base_uri": "https://localhost:8080/",
          "height": 370
        },
        "outputId": "98b5c5df-ab83-48b5-d217-d5a78a33e262"
      },
      "source": [
        "\n",
        "plt.figure(figsize=[20,5])\n",
        "sns.countplot(x = 'TEMPO(MESES)', hue = 'TIPO_DO_CARTAO', data = base_credito, )\n",
        "\n",
        "''' Provavelvente essa base de dados foi tratada anteriormente, e esse valor foi preenchido com algum valor\n",
        "de média ou mediana, pois é muito discrepante em relação aos outros, mas estando o dado correto, percebe-se, \n",
        "que há clientes com um tempo significativo no serviço, com o cartâo mais básico, avaliar uma promoção no nível \n",
        "do serviço, poderia melhorar a fidelidade e os rendimentos.'''"
      ],
      "execution_count": null,
      "outputs": [
        {
          "output_type": "execute_result",
          "data": {
            "application/vnd.google.colaboratory.intrinsic+json": {
              "type": "string"
            },
            "text/plain": [
              "' Provavelvente essa base de dados foi tratada anteriormente, e esse valor foi preenchido com algum valor\\nde média ou mediana, pois é muito discrepante em relação aos outros, mas estando o dado correto, percebe-se, \\nque há clientes com um tempo significativo no serviço, com o cartâo mais básico, avaliar uma promoção no nível \\ndo serviço, poderia melhorar a fidelidade e os rendimentos.'"
            ]
          },
          "metadata": {
            "tags": []
          },
          "execution_count": 121
        },
        {
          "output_type": "display_data",
          "data": {
            "image/png": "[encoded data removed]",
            "text/plain": [
              "<Figure size 1440x360 with 1 Axes>"
            ]
          },
          "metadata": {
            "tags": [],
            "needs_background": "light"
          }
        }
      ]
    },
    {
      "cell_type": "code",
      "metadata": {
        "id": "1OqELytRZBYL",
        "colab": {
          "base_uri": "https://localhost:8080/",
          "height": 352
        },
        "outputId": "aaeebcc0-4e77-4635-f549-c8d4266e837b"
      },
      "source": [
        "plt.figure(figsize=[20,5])\n",
        "sns.countplot(x = 'NIVEL_CREDITO', hue = 'CONDICAO', data = base_credito, )"
      ],
      "execution_count": null,
      "outputs": [
        {
          "output_type": "execute_result",
          "data": {
            "text/plain": [
              "<matplotlib.axes._subplots.AxesSubplot at 0x7fbd52a372d0>"
            ]
          },
          "metadata": {
            "tags": []
          },
          "execution_count": 122
        },
        {
          "output_type": "display_data",
          "data": {
            "image/png": "[encoded data removed]",
            "text/plain": [
              "<Figure size 1440x360 with 1 Axes>"
            ]
          },
          "metadata": {
            "tags": [],
            "needs_background": "light"
          }
        }
      ]
    },
    {
      "cell_type": "markdown",
      "metadata": {
        "id": "nNFdz-vUIGwd"
      },
      "source": [
        "# Modelagem dos dados."
      ]
    },
    {
      "cell_type": "code",
      "metadata": {
        "id": "3XWkcc4BJCUG",
        "colab": {
          "base_uri": "https://localhost:8080/"
        },
        "outputId": "b2a81c47-f970-4c2a-887f-dff05a7507ba"
      },
      "source": [
        "from sklearn.preprocessing import OneHotEncoder\n",
        "from imblearn.over_sampling import SMOTE\n",
        "from sklearn.compose import ColumnTransformer\n",
        "from sklearn.impute import SimpleImputer\n",
        "from sklearn.preprocessing import StandardScaler\n",
        "from sklearn.model_selection import GridSearchCV\n",
        "from sklearn.compose import make_column_transformer\n",
        "from sklearn.compose import make_column_selector\n",
        "from sklearn.model_selection import train_test_split\n",
        "from sklearn.metrics import precision_score, recall_score, f1_score, classification_report,accuracy_score\n",
        "from sklearn.metrics import confusion_matrix"
      ],
      "execution_count": null,
      "outputs": [
        {
          "output_type": "stream",
          "text": [
            "/usr/local/lib/python3.7/dist-packages/sklearn/externals/six.py:31: FutureWarning: The module is deprecated in version 0.21 and will be removed in version 0.23 since we've dropped support for Python 2.7. Please rely on the official version of six (https://pypi.org/project/six/).\n",
            "  \"(https://pypi.org/project/six/).\", FutureWarning)\n",
            "/usr/local/lib/python3.7/dist-packages/sklearn/utils/deprecation.py:144: FutureWarning: The sklearn.neighbors.base module is  deprecated in version 0.22 and will be removed in version 0.24. The corresponding classes / functions should instead be imported from sklearn.neighbors. Anything that cannot be imported from sklearn.neighbors is now part of the private API.\n",
            "  warnings.warn(message, FutureWarning)\n"
          ],
          "name": "stderr"
        }
      ]
    },
    {
      "cell_type": "code",
      "metadata": {
        "colab": {
          "base_uri": "https://localhost:8080/"
        },
        "id": "6lbQI7rfIGGO",
        "outputId": "19b55552-2043-4b90-db88-7f93750f3ce2"
      },
      "source": [
        "base_credito.head()"
      ],
      "execution_count": null,
      "outputs": [
        {
          "output_type": "execute_result",
          "data": {
            "text/html": [
              "<div>\n",
              "<style scoped>\n",
              "    .dataframe tbody tr th:only-of-type {\n",
              "        vertical-align: middle;\n",
              "    }\n",
              "\n",
              "    .dataframe tbody tr th {\n",
              "        vertical-align: top;\n",
              "    }\n",
              "\n",
              "    .dataframe thead th {\n",
              "        text-align: right;\n",
              "    }\n",
              "</style>\n",
              "<table border=\"1\" class=\"dataframe\">\n",
              "  <thead>\n",
              "    <tr style=\"text-align: right;\">\n",
              "      <th></th>\n",
              "      <th>ID</th>\n",
              "      <th>CONDICAO</th>\n",
              "      <th>IDADE</th>\n",
              "      <th>GENERO</th>\n",
              "      <th>DEPENDENTES</th>\n",
              "      <th>INSTRUÇAO</th>\n",
              "      <th>ESTADO_CIVIL</th>\n",
              "      <th>RENDA</th>\n",
              "      <th>TIPO_DO_CARTAO</th>\n",
              "      <th>TEMPO(MESES)</th>\n",
              "      <th>PRODUTOS_ATIVOS</th>\n",
              "      <th>PERIODO_INATIVO</th>\n",
              "      <th>CONTATOS_COM_BANCO</th>\n",
              "      <th>LIMITE_DE_CREDITO</th>\n",
              "      <th>SALDO_TOTAL_NAO_PAGO</th>\n",
              "      <th>DIFRENCA_MEDIA_ENTRE_LIMITE_CARTAO_E _SALDO_NA CONTA</th>\n",
              "      <th>MUDANCA_NAS_DESPESAS_DO_CLIENTE_ENTRE O_4º_E_O_1º-TRIMESTRE</th>\n",
              "      <th>VALOR_TOTAL_DAS_TRANSACOES</th>\n",
              "      <th>NUMERO_DE_TRANSACOES</th>\n",
              "      <th>ALTERACAO_NO_NUMERO_DE_TRANSACOES_ENTRE_0_4°_E_1°_TRIMESTRE</th>\n",
              "      <th>TAXA_DE_UTILIZACAO_DE_CREDITO</th>\n",
              "      <th>NIVEL_COMPRAS</th>\n",
              "      <th>NIVEL_CREDITO</th>\n",
              "      <th>AUMENTO_DESPESAS_CLIENTE</th>\n",
              "      <th>NIVEL_DIFERENCA_SALDO_CONTA/CARTAO</th>\n",
              "      <th>NIVEL_SALDO_NAO_PAGO</th>\n",
              "      <th>NIVEL_UTILIZACAO_DE_CREDITO</th>\n",
              "      <th>NIVEL_VALOR_TRANSACOES</th>\n",
              "    </tr>\n",
              "  </thead>\n",
              "  <tbody>\n",
              "    <tr>\n",
              "      <th>0</th>\n",
              "      <td>768805383</td>\n",
              "      <td>0</td>\n",
              "      <td>45</td>\n",
              "      <td>M</td>\n",
              "      <td>3</td>\n",
              "      <td>High School</td>\n",
              "      <td>Married</td>\n",
              "      <td>$60K - $80K</td>\n",
              "      <td>Blue</td>\n",
              "      <td>39</td>\n",
              "      <td>5</td>\n",
              "      <td>1</td>\n",
              "      <td>3</td>\n",
              "      <td>12691.0</td>\n",
              "      <td>777</td>\n",
              "      <td>11914.0</td>\n",
              "      <td>1.335</td>\n",
              "      <td>1144</td>\n",
              "      <td>42</td>\n",
              "      <td>1.625</td>\n",
              "      <td>0.061</td>\n",
              "      <td>BAIXO</td>\n",
              "      <td>ALTO</td>\n",
              "      <td>ALTO</td>\n",
              "      <td>MEDIO</td>\n",
              "      <td>MEDIO</td>\n",
              "      <td>BAIXO</td>\n",
              "      <td>BAIXO</td>\n",
              "    </tr>\n",
              "    <tr>\n",
              "      <th>1</th>\n",
              "      <td>818770008</td>\n",
              "      <td>0</td>\n",
              "      <td>49</td>\n",
              "      <td>F</td>\n",
              "      <td>5</td>\n",
              "      <td>Graduate</td>\n",
              "      <td>Single</td>\n",
              "      <td>Less than $40K</td>\n",
              "      <td>Blue</td>\n",
              "      <td>44</td>\n",
              "      <td>6</td>\n",
              "      <td>1</td>\n",
              "      <td>2</td>\n",
              "      <td>8256.0</td>\n",
              "      <td>864</td>\n",
              "      <td>7392.0</td>\n",
              "      <td>1.541</td>\n",
              "      <td>1291</td>\n",
              "      <td>33</td>\n",
              "      <td>3.714</td>\n",
              "      <td>0.105</td>\n",
              "      <td>BAIXO</td>\n",
              "      <td>MEDIO</td>\n",
              "      <td>ALTO</td>\n",
              "      <td>MEDIO</td>\n",
              "      <td>MEDIO</td>\n",
              "      <td>BAIXO</td>\n",
              "      <td>BAIXO</td>\n",
              "    </tr>\n",
              "    <tr>\n",
              "      <th>2</th>\n",
              "      <td>713982108</td>\n",
              "      <td>0</td>\n",
              "      <td>51</td>\n",
              "      <td>M</td>\n",
              "      <td>3</td>\n",
              "      <td>Graduate</td>\n",
              "      <td>Married</td>\n",
              "      <td>$80K - $120K</td>\n",
              "      <td>Blue</td>\n",
              "      <td>36</td>\n",
              "      <td>4</td>\n",
              "      <td>1</td>\n",
              "      <td>0</td>\n",
              "      <td>3418.0</td>\n",
              "      <td>0</td>\n",
              "      <td>3418.0</td>\n",
              "      <td>2.594</td>\n",
              "      <td>1887</td>\n",
              "      <td>20</td>\n",
              "      <td>2.333</td>\n",
              "      <td>0.000</td>\n",
              "      <td>BAIXO</td>\n",
              "      <td>BAIXO</td>\n",
              "      <td>ALTO</td>\n",
              "      <td>BAIXO</td>\n",
              "      <td>BAIXO</td>\n",
              "      <td>BAIXO</td>\n",
              "      <td>BAIXO</td>\n",
              "    </tr>\n",
              "    <tr>\n",
              "      <th>3</th>\n",
              "      <td>769911858</td>\n",
              "      <td>0</td>\n",
              "      <td>40</td>\n",
              "      <td>F</td>\n",
              "      <td>4</td>\n",
              "      <td>High School</td>\n",
              "      <td>Unknown</td>\n",
              "      <td>Less than $40K</td>\n",
              "      <td>Blue</td>\n",
              "      <td>34</td>\n",
              "      <td>3</td>\n",
              "      <td>4</td>\n",
              "      <td>1</td>\n",
              "      <td>3313.0</td>\n",
              "      <td>2517</td>\n",
              "      <td>796.0</td>\n",
              "      <td>1.405</td>\n",
              "      <td>1171</td>\n",
              "      <td>20</td>\n",
              "      <td>2.333</td>\n",
              "      <td>0.760</td>\n",
              "      <td>BAIXO</td>\n",
              "      <td>BAIXO</td>\n",
              "      <td>ALTO</td>\n",
              "      <td>BAIXO</td>\n",
              "      <td>ALTO</td>\n",
              "      <td>ALTO</td>\n",
              "      <td>BAIXO</td>\n",
              "    </tr>\n",
              "    <tr>\n",
              "      <th>4</th>\n",
              "      <td>709106358</td>\n",
              "      <td>0</td>\n",
              "      <td>40</td>\n",
              "      <td>M</td>\n",
              "      <td>3</td>\n",
              "      <td>Uneducated</td>\n",
              "      <td>Married</td>\n",
              "      <td>$60K - $80K</td>\n",
              "      <td>Blue</td>\n",
              "      <td>21</td>\n",
              "      <td>5</td>\n",
              "      <td>1</td>\n",
              "      <td>0</td>\n",
              "      <td>4716.0</td>\n",
              "      <td>0</td>\n",
              "      <td>4716.0</td>\n",
              "      <td>2.175</td>\n",
              "      <td>816</td>\n",
              "      <td>28</td>\n",
              "      <td>2.500</td>\n",
              "      <td>0.000</td>\n",
              "      <td>BAIXO</td>\n",
              "      <td>MEDIO</td>\n",
              "      <td>ALTO</td>\n",
              "      <td>BAIXO</td>\n",
              "      <td>BAIXO</td>\n",
              "      <td>BAIXO</td>\n",
              "      <td>BAIXO</td>\n",
              "    </tr>\n",
              "  </tbody>\n",
              "</table>\n",
              "</div>"
            ],
            "text/plain": [
              "          ID  CONDICAO  ...  NIVEL_UTILIZACAO_DE_CREDITO NIVEL_VALOR_TRANSACOES\n",
              "0  768805383         0  ...                        BAIXO                  BAIXO\n",
              "1  818770008         0  ...                        BAIXO                  BAIXO\n",
              "2  713982108         0  ...                        BAIXO                  BAIXO\n",
              "3  769911858         0  ...                         ALTO                  BAIXO\n",
              "4  709106358         0  ...                        BAIXO                  BAIXO\n",
              "\n",
              "[5 rows x 28 columns]"
            ]
          },
          "metadata": {
            "tags": []
          },
          "execution_count": 137
        }
      ]
    },
    {
      "cell_type": "code",
      "metadata": {
        "id": "XBPsm-ns_E0K"
      },
      "source": [
        "y_credito = base_credito.iloc[:,1]"
      ],
      "execution_count": null,
      "outputs": []
    },
    {
      "cell_type": "code",
      "metadata": {
        "id": "QmdLteIQZYX_"
      },
      "source": [
        "x_credito = base_credito.iloc[:,2:21]"
      ],
      "execution_count": null,
      "outputs": []
    },
    {
      "cell_type": "code",
      "metadata": {
        "colab": {
          "base_uri": "https://localhost:8080/"
        },
        "id": "u1MIRbvVZ4NW",
        "outputId": "d96369f7-2b58-47ce-9770-a3c7f44e5fd0"
      },
      "source": [
        "x_credito.columns"
      ],
      "execution_count": null,
      "outputs": [
        {
          "output_type": "execute_result",
          "data": {
            "text/plain": [
              "Index(['IDADE', 'GENERO', 'DEPENDENTES', 'INSTRUÇAO', 'ESTADO_CIVIL', 'RENDA',\n",
              "       'TIPO_DO_CARTAO', 'TEMPO(MESES)', 'PRODUTOS_ATIVOS', 'PERIODO_INATIVO',\n",
              "       'CONTATOS_COM_BANCO', 'LIMITE_DE_CREDITO', 'SALDO_TOTAL_NAO_PAGO',\n",
              "       'DIFRENCA_MEDIA_ENTRE_LIMITE_CARTAO_E _SALDO_NA CONTA',\n",
              "       'MUDANCA_NAS_DESPESAS_DO_CLIENTE_ENTRE O_4º_E_O_1º-TRIMESTRE',\n",
              "       'VALOR_TOTAL_DAS_TRANSACOES', 'NUMERO_DE_TRANSACOES',\n",
              "       'ALTERACAO_NO_NUMERO_DE_TRANSACOES_ENTRE_0_4°_E_1°_TRIMESTRE',\n",
              "       'TAXA_DE_UTILIZACAO_DE_CREDITO'],\n",
              "      dtype='object')"
            ]
          },
          "metadata": {
            "tags": []
          },
          "execution_count": 140
        }
      ]
    },
    {
      "cell_type": "code",
      "metadata": {
        "id": "cuuicV2CahcI"
      },
      "source": [
        "x_credito2 = base_credito.iloc[:,[2,3,4,5,6,7,8,9,10,11,12,17,18,21,22,23,24,25,26]]"
      ],
      "execution_count": null,
      "outputs": []
    },
    {
      "cell_type": "code",
      "metadata": {
        "colab": {
          "base_uri": "https://localhost:8080/"
        },
        "id": "1tDHGEwFcIvk",
        "outputId": "537d61a3-4a0f-41fd-e2df-5f134f26dc99"
      },
      "source": [
        "x_credito2.columns"
      ],
      "execution_count": null,
      "outputs": [
        {
          "output_type": "execute_result",
          "data": {
            "text/plain": [
              "Index(['IDADE', 'GENERO', 'DEPENDENTES', 'INSTRUÇAO', 'ESTADO_CIVIL', 'RENDA',\n",
              "       'TIPO_DO_CARTAO', 'TEMPO(MESES)', 'PRODUTOS_ATIVOS', 'PERIODO_INATIVO',\n",
              "       'CONTATOS_COM_BANCO', 'VALOR_TOTAL_DAS_TRANSACOES',\n",
              "       'NUMERO_DE_TRANSACOES', 'NIVEL_COMPRAS', 'NIVEL_CREDITO',\n",
              "       'AUMENTO_DESPESAS_CLIENTE', 'NIVEL_DIFERENCA_SALDO_CONTA/CARTAO',\n",
              "       'NIVEL_SALDO_NAO_PAGO', 'NIVEL_UTILIZACAO_DE_CREDITO'],\n",
              "      dtype='object')"
            ]
          },
          "metadata": {
            "tags": []
          },
          "execution_count": 142
        }
      ]
    },
    {
      "cell_type": "code",
      "metadata": {
        "colab": {
          "base_uri": "https://localhost:8080/"
        },
        "id": "v5k3TfMFWiUO",
        "outputId": "57a58725-2939-4a25-8d31-6b8f5f7e0aa8"
      },
      "source": [
        "base_credito.info()"
      ],
      "execution_count": null,
      "outputs": [
        {
          "output_type": "stream",
          "text": [
            "<class 'pandas.core.frame.DataFrame'>\n",
            "RangeIndex: 10127 entries, 0 to 10126\n",
            "Data columns (total 28 columns):\n",
            " #   Column                                                       Non-Null Count  Dtype  \n",
            "---  ------                                                       --------------  -----  \n",
            " 0   ID                                                           10127 non-null  int64  \n",
            " 1   CONDICAO                                                     10127 non-null  int64  \n",
            " 2   IDADE                                                        10127 non-null  int64  \n",
            " 3   GENERO                                                       10127 non-null  object \n",
            " 4   DEPENDENTES                                                  10127 non-null  int64  \n",
            " 5   INSTRUÇAO                                                    10127 non-null  object \n",
            " 6   ESTADO_CIVIL                                                 10127 non-null  object \n",
            " 7   RENDA                                                        10127 non-null  object \n",
            " 8   TIPO_DO_CARTAO                                               10127 non-null  object \n",
            " 9   TEMPO(MESES)                                                 10127 non-null  int64  \n",
            " 10  PRODUTOS_ATIVOS                                              10127 non-null  int64  \n",
            " 11  PERIODO_INATIVO                                              10127 non-null  int64  \n",
            " 12  CONTATOS_COM_BANCO                                           10127 non-null  int64  \n",
            " 13  LIMITE_DE_CREDITO                                            10127 non-null  float64\n",
            " 14  SALDO_TOTAL_NAO_PAGO                                         10127 non-null  int64  \n",
            " 15  DIFRENCA_MEDIA_ENTRE_LIMITE_CARTAO_E _SALDO_NA CONTA         10127 non-null  float64\n",
            " 16  MUDANCA_NAS_DESPESAS_DO_CLIENTE_ENTRE O_4º_E_O_1º-TRIMESTRE  10127 non-null  float64\n",
            " 17  VALOR_TOTAL_DAS_TRANSACOES                                   10127 non-null  int64  \n",
            " 18  NUMERO_DE_TRANSACOES                                         10127 non-null  int64  \n",
            " 19  ALTERACAO_NO_NUMERO_DE_TRANSACOES_ENTRE_0_4°_E_1°_TRIMESTRE  10127 non-null  float64\n",
            " 20  TAXA_DE_UTILIZACAO_DE_CREDITO                                10127 non-null  float64\n",
            " 21  NIVEL_COMPRAS                                                10127 non-null  object \n",
            " 22  NIVEL_CREDITO                                                10127 non-null  object \n",
            " 23  AUMENTO_DESPESAS_CLIENTE                                     10127 non-null  object \n",
            " 24  NIVEL_DIFERENCA_SALDO_CONTA/CARTAO                           10127 non-null  object \n",
            " 25  NIVEL_SALDO_NAO_PAGO                                         10127 non-null  object \n",
            " 26  NIVEL_UTILIZACAO_DE_CREDITO                                  10127 non-null  object \n",
            " 27  NIVEL_VALOR_TRANSACOES                                       10127 non-null  object \n",
            "dtypes: float64(5), int64(11), object(12)\n",
            "memory usage: 2.2+ MB\n"
          ],
          "name": "stdout"
        }
      ]
    },
    {
      "cell_type": "code",
      "metadata": {
        "id": "gKoLLYDzQYwV"
      },
      "source": [
        "ct = make_column_transformer((OneHotEncoder(),make_column_selector(dtype_include=object)),\n",
        "                             (StandardScaler(),make_column_selector(dtype_exclude=object)))"
      ],
      "execution_count": null,
      "outputs": []
    },
    {
      "cell_type": "code",
      "metadata": {
        "id": "j9nSV6ahQozK"
      },
      "source": [
        "x_credito = ct.fit_transform(x_credito)"
      ],
      "execution_count": null,
      "outputs": []
    },
    {
      "cell_type": "code",
      "metadata": {
        "colab": {
          "base_uri": "https://localhost:8080/"
        },
        "id": "sjbymDys2oD1",
        "outputId": "5d70bb5c-d908-4f0b-b2dd-831bc5d2d491"
      },
      "source": [
        "smt = SMOTE(sampling_strategy = 0.5, random_state= 1 )\n",
        "x_credito_smote, y_credito_smote = smt.fit_sample(x_credito, y_credito)\n"
      ],
      "execution_count": null,
      "outputs": [
        {
          "output_type": "stream",
          "text": [
            "/usr/local/lib/python3.7/dist-packages/sklearn/utils/deprecation.py:87: FutureWarning: Function safe_indexing is deprecated; safe_indexing is deprecated in version 0.22 and will be removed in version 0.24.\n",
            "  warnings.warn(msg, category=FutureWarning)\n"
          ],
          "name": "stderr"
        }
      ]
    },
    {
      "cell_type": "code",
      "metadata": {
        "id": "Fxl3WtZFZ0YL",
        "colab": {
          "base_uri": "https://localhost:8080/"
        },
        "outputId": "13d16b62-2edc-4ae6-cf79-b6f02b27786b"
      },
      "source": [
        "x_credito_modelada = pd.DataFrame(x_credito)\n",
        "x_credito_modelada\n",
        "\n",
        "\n"
      ],
      "execution_count": null,
      "outputs": [
        {
          "output_type": "execute_result",
          "data": {
            "text/html": [
              "<div>\n",
              "<style scoped>\n",
              "    .dataframe tbody tr th:only-of-type {\n",
              "        vertical-align: middle;\n",
              "    }\n",
              "\n",
              "    .dataframe tbody tr th {\n",
              "        vertical-align: top;\n",
              "    }\n",
              "\n",
              "    .dataframe thead th {\n",
              "        text-align: right;\n",
              "    }\n",
              "</style>\n",
              "<table border=\"1\" class=\"dataframe\">\n",
              "  <thead>\n",
              "    <tr style=\"text-align: right;\">\n",
              "      <th></th>\n",
              "      <th>0</th>\n",
              "      <th>1</th>\n",
              "      <th>2</th>\n",
              "      <th>3</th>\n",
              "      <th>4</th>\n",
              "      <th>5</th>\n",
              "      <th>6</th>\n",
              "      <th>7</th>\n",
              "      <th>8</th>\n",
              "      <th>9</th>\n",
              "      <th>10</th>\n",
              "      <th>11</th>\n",
              "      <th>12</th>\n",
              "      <th>13</th>\n",
              "      <th>14</th>\n",
              "      <th>15</th>\n",
              "      <th>16</th>\n",
              "      <th>17</th>\n",
              "      <th>18</th>\n",
              "      <th>19</th>\n",
              "      <th>20</th>\n",
              "      <th>21</th>\n",
              "      <th>22</th>\n",
              "      <th>23</th>\n",
              "      <th>24</th>\n",
              "      <th>25</th>\n",
              "      <th>26</th>\n",
              "      <th>27</th>\n",
              "      <th>28</th>\n",
              "      <th>29</th>\n",
              "      <th>30</th>\n",
              "      <th>31</th>\n",
              "      <th>32</th>\n",
              "      <th>33</th>\n",
              "      <th>34</th>\n",
              "      <th>35</th>\n",
              "      <th>36</th>\n",
              "    </tr>\n",
              "  </thead>\n",
              "  <tbody>\n",
              "    <tr>\n",
              "      <th>0</th>\n",
              "      <td>0.0</td>\n",
              "      <td>1.0</td>\n",
              "      <td>0.0</td>\n",
              "      <td>0.0</td>\n",
              "      <td>0.0</td>\n",
              "      <td>1.0</td>\n",
              "      <td>0.0</td>\n",
              "      <td>0.0</td>\n",
              "      <td>0.0</td>\n",
              "      <td>0.0</td>\n",
              "      <td>1.0</td>\n",
              "      <td>0.0</td>\n",
              "      <td>0.0</td>\n",
              "      <td>0.0</td>\n",
              "      <td>0.0</td>\n",
              "      <td>1.0</td>\n",
              "      <td>0.0</td>\n",
              "      <td>0.0</td>\n",
              "      <td>0.0</td>\n",
              "      <td>1.0</td>\n",
              "      <td>0.0</td>\n",
              "      <td>0.0</td>\n",
              "      <td>0.0</td>\n",
              "      <td>-0.165406</td>\n",
              "      <td>0.503368</td>\n",
              "      <td>0.384621</td>\n",
              "      <td>0.763943</td>\n",
              "      <td>-1.327136</td>\n",
              "      <td>0.492404</td>\n",
              "      <td>0.446622</td>\n",
              "      <td>-0.473422</td>\n",
              "      <td>0.488971</td>\n",
              "      <td>2.623494</td>\n",
              "      <td>-0.959707</td>\n",
              "      <td>-0.973895</td>\n",
              "      <td>3.834003</td>\n",
              "      <td>-0.775882</td>\n",
              "    </tr>\n",
              "    <tr>\n",
              "      <th>1</th>\n",
              "      <td>1.0</td>\n",
              "      <td>0.0</td>\n",
              "      <td>0.0</td>\n",
              "      <td>0.0</td>\n",
              "      <td>1.0</td>\n",
              "      <td>0.0</td>\n",
              "      <td>0.0</td>\n",
              "      <td>0.0</td>\n",
              "      <td>0.0</td>\n",
              "      <td>0.0</td>\n",
              "      <td>0.0</td>\n",
              "      <td>1.0</td>\n",
              "      <td>0.0</td>\n",
              "      <td>0.0</td>\n",
              "      <td>0.0</td>\n",
              "      <td>0.0</td>\n",
              "      <td>0.0</td>\n",
              "      <td>1.0</td>\n",
              "      <td>0.0</td>\n",
              "      <td>1.0</td>\n",
              "      <td>0.0</td>\n",
              "      <td>0.0</td>\n",
              "      <td>0.0</td>\n",
              "      <td>0.333570</td>\n",
              "      <td>2.043199</td>\n",
              "      <td>1.010715</td>\n",
              "      <td>1.407306</td>\n",
              "      <td>-1.327136</td>\n",
              "      <td>-0.411616</td>\n",
              "      <td>-0.041367</td>\n",
              "      <td>-0.366667</td>\n",
              "      <td>-0.008486</td>\n",
              "      <td>3.563293</td>\n",
              "      <td>-0.916433</td>\n",
              "      <td>-1.357340</td>\n",
              "      <td>12.608573</td>\n",
              "      <td>-0.616276</td>\n",
              "    </tr>\n",
              "    <tr>\n",
              "      <th>2</th>\n",
              "      <td>0.0</td>\n",
              "      <td>1.0</td>\n",
              "      <td>0.0</td>\n",
              "      <td>0.0</td>\n",
              "      <td>1.0</td>\n",
              "      <td>0.0</td>\n",
              "      <td>0.0</td>\n",
              "      <td>0.0</td>\n",
              "      <td>0.0</td>\n",
              "      <td>0.0</td>\n",
              "      <td>1.0</td>\n",
              "      <td>0.0</td>\n",
              "      <td>0.0</td>\n",
              "      <td>0.0</td>\n",
              "      <td>0.0</td>\n",
              "      <td>0.0</td>\n",
              "      <td>1.0</td>\n",
              "      <td>0.0</td>\n",
              "      <td>0.0</td>\n",
              "      <td>1.0</td>\n",
              "      <td>0.0</td>\n",
              "      <td>0.0</td>\n",
              "      <td>0.0</td>\n",
              "      <td>0.583058</td>\n",
              "      <td>0.503368</td>\n",
              "      <td>0.008965</td>\n",
              "      <td>0.120579</td>\n",
              "      <td>-1.327136</td>\n",
              "      <td>-2.219655</td>\n",
              "      <td>-0.573698</td>\n",
              "      <td>-1.426858</td>\n",
              "      <td>-0.445658</td>\n",
              "      <td>8.367214</td>\n",
              "      <td>-0.740982</td>\n",
              "      <td>-1.911206</td>\n",
              "      <td>6.807864</td>\n",
              "      <td>-0.997155</td>\n",
              "    </tr>\n",
              "    <tr>\n",
              "      <th>3</th>\n",
              "      <td>1.0</td>\n",
              "      <td>0.0</td>\n",
              "      <td>0.0</td>\n",
              "      <td>0.0</td>\n",
              "      <td>0.0</td>\n",
              "      <td>1.0</td>\n",
              "      <td>0.0</td>\n",
              "      <td>0.0</td>\n",
              "      <td>0.0</td>\n",
              "      <td>0.0</td>\n",
              "      <td>0.0</td>\n",
              "      <td>0.0</td>\n",
              "      <td>1.0</td>\n",
              "      <td>0.0</td>\n",
              "      <td>0.0</td>\n",
              "      <td>0.0</td>\n",
              "      <td>0.0</td>\n",
              "      <td>1.0</td>\n",
              "      <td>0.0</td>\n",
              "      <td>1.0</td>\n",
              "      <td>0.0</td>\n",
              "      <td>0.0</td>\n",
              "      <td>0.0</td>\n",
              "      <td>-0.789126</td>\n",
              "      <td>1.273283</td>\n",
              "      <td>-0.241473</td>\n",
              "      <td>-0.522785</td>\n",
              "      <td>1.641478</td>\n",
              "      <td>-1.315636</td>\n",
              "      <td>-0.585251</td>\n",
              "      <td>1.661686</td>\n",
              "      <td>-0.734100</td>\n",
              "      <td>2.942843</td>\n",
              "      <td>-0.951758</td>\n",
              "      <td>-1.911206</td>\n",
              "      <td>6.807864</td>\n",
              "      <td>1.759686</td>\n",
              "    </tr>\n",
              "    <tr>\n",
              "      <th>4</th>\n",
              "      <td>0.0</td>\n",
              "      <td>1.0</td>\n",
              "      <td>0.0</td>\n",
              "      <td>0.0</td>\n",
              "      <td>0.0</td>\n",
              "      <td>0.0</td>\n",
              "      <td>0.0</td>\n",
              "      <td>1.0</td>\n",
              "      <td>0.0</td>\n",
              "      <td>0.0</td>\n",
              "      <td>1.0</td>\n",
              "      <td>0.0</td>\n",
              "      <td>0.0</td>\n",
              "      <td>0.0</td>\n",
              "      <td>0.0</td>\n",
              "      <td>1.0</td>\n",
              "      <td>0.0</td>\n",
              "      <td>0.0</td>\n",
              "      <td>0.0</td>\n",
              "      <td>1.0</td>\n",
              "      <td>0.0</td>\n",
              "      <td>0.0</td>\n",
              "      <td>0.0</td>\n",
              "      <td>-0.789126</td>\n",
              "      <td>0.503368</td>\n",
              "      <td>-1.869317</td>\n",
              "      <td>0.763943</td>\n",
              "      <td>-1.327136</td>\n",
              "      <td>-2.219655</td>\n",
              "      <td>-0.430877</td>\n",
              "      <td>-1.426858</td>\n",
              "      <td>-0.302868</td>\n",
              "      <td>6.455682</td>\n",
              "      <td>-1.056263</td>\n",
              "      <td>-1.570365</td>\n",
              "      <td>7.509325</td>\n",
              "      <td>-0.997155</td>\n",
              "    </tr>\n",
              "    <tr>\n",
              "      <th>...</th>\n",
              "      <td>...</td>\n",
              "      <td>...</td>\n",
              "      <td>...</td>\n",
              "      <td>...</td>\n",
              "      <td>...</td>\n",
              "      <td>...</td>\n",
              "      <td>...</td>\n",
              "      <td>...</td>\n",
              "      <td>...</td>\n",
              "      <td>...</td>\n",
              "      <td>...</td>\n",
              "      <td>...</td>\n",
              "      <td>...</td>\n",
              "      <td>...</td>\n",
              "      <td>...</td>\n",
              "      <td>...</td>\n",
              "      <td>...</td>\n",
              "      <td>...</td>\n",
              "      <td>...</td>\n",
              "      <td>...</td>\n",
              "      <td>...</td>\n",
              "      <td>...</td>\n",
              "      <td>...</td>\n",
              "      <td>...</td>\n",
              "      <td>...</td>\n",
              "      <td>...</td>\n",
              "      <td>...</td>\n",
              "      <td>...</td>\n",
              "      <td>...</td>\n",
              "      <td>...</td>\n",
              "      <td>...</td>\n",
              "      <td>...</td>\n",
              "      <td>...</td>\n",
              "      <td>...</td>\n",
              "      <td>...</td>\n",
              "      <td>...</td>\n",
              "      <td>...</td>\n",
              "    </tr>\n",
              "    <tr>\n",
              "      <th>10122</th>\n",
              "      <td>0.0</td>\n",
              "      <td>1.0</td>\n",
              "      <td>0.0</td>\n",
              "      <td>0.0</td>\n",
              "      <td>1.0</td>\n",
              "      <td>0.0</td>\n",
              "      <td>0.0</td>\n",
              "      <td>0.0</td>\n",
              "      <td>0.0</td>\n",
              "      <td>0.0</td>\n",
              "      <td>0.0</td>\n",
              "      <td>1.0</td>\n",
              "      <td>0.0</td>\n",
              "      <td>0.0</td>\n",
              "      <td>1.0</td>\n",
              "      <td>0.0</td>\n",
              "      <td>0.0</td>\n",
              "      <td>0.0</td>\n",
              "      <td>0.0</td>\n",
              "      <td>1.0</td>\n",
              "      <td>0.0</td>\n",
              "      <td>0.0</td>\n",
              "      <td>0.0</td>\n",
              "      <td>0.458314</td>\n",
              "      <td>-0.266547</td>\n",
              "      <td>0.509840</td>\n",
              "      <td>-0.522785</td>\n",
              "      <td>-0.337598</td>\n",
              "      <td>0.492404</td>\n",
              "      <td>-0.509330</td>\n",
              "      <td>0.844455</td>\n",
              "      <td>-0.584929</td>\n",
              "      <td>-0.259771</td>\n",
              "      <td>3.259358</td>\n",
              "      <td>2.221481</td>\n",
              "      <td>0.608119</td>\n",
              "      <td>0.678714</td>\n",
              "    </tr>\n",
              "    <tr>\n",
              "      <th>10123</th>\n",
              "      <td>0.0</td>\n",
              "      <td>1.0</td>\n",
              "      <td>0.0</td>\n",
              "      <td>0.0</td>\n",
              "      <td>0.0</td>\n",
              "      <td>0.0</td>\n",
              "      <td>0.0</td>\n",
              "      <td>0.0</td>\n",
              "      <td>1.0</td>\n",
              "      <td>1.0</td>\n",
              "      <td>0.0</td>\n",
              "      <td>0.0</td>\n",
              "      <td>0.0</td>\n",
              "      <td>0.0</td>\n",
              "      <td>1.0</td>\n",
              "      <td>0.0</td>\n",
              "      <td>0.0</td>\n",
              "      <td>0.0</td>\n",
              "      <td>0.0</td>\n",
              "      <td>1.0</td>\n",
              "      <td>0.0</td>\n",
              "      <td>0.0</td>\n",
              "      <td>0.0</td>\n",
              "      <td>-0.664382</td>\n",
              "      <td>-0.266547</td>\n",
              "      <td>-1.368442</td>\n",
              "      <td>0.120579</td>\n",
              "      <td>-0.337598</td>\n",
              "      <td>0.492404</td>\n",
              "      <td>-0.479181</td>\n",
              "      <td>1.255524</td>\n",
              "      <td>-0.591639</td>\n",
              "      <td>0.201004</td>\n",
              "      <td>1.283475</td>\n",
              "      <td>0.176440</td>\n",
              "      <td>-0.122745</td>\n",
              "      <td>0.856458</td>\n",
              "    </tr>\n",
              "    <tr>\n",
              "      <th>10124</th>\n",
              "      <td>1.0</td>\n",
              "      <td>0.0</td>\n",
              "      <td>0.0</td>\n",
              "      <td>0.0</td>\n",
              "      <td>0.0</td>\n",
              "      <td>1.0</td>\n",
              "      <td>0.0</td>\n",
              "      <td>0.0</td>\n",
              "      <td>0.0</td>\n",
              "      <td>0.0</td>\n",
              "      <td>1.0</td>\n",
              "      <td>0.0</td>\n",
              "      <td>0.0</td>\n",
              "      <td>0.0</td>\n",
              "      <td>0.0</td>\n",
              "      <td>0.0</td>\n",
              "      <td>0.0</td>\n",
              "      <td>1.0</td>\n",
              "      <td>0.0</td>\n",
              "      <td>1.0</td>\n",
              "      <td>0.0</td>\n",
              "      <td>0.0</td>\n",
              "      <td>0.0</td>\n",
              "      <td>-0.290150</td>\n",
              "      <td>-1.036462</td>\n",
              "      <td>0.008965</td>\n",
              "      <td>0.763943</td>\n",
              "      <td>0.651940</td>\n",
              "      <td>1.396424</td>\n",
              "      <td>-0.354626</td>\n",
              "      <td>-1.426858</td>\n",
              "      <td>-0.226632</td>\n",
              "      <td>0.269436</td>\n",
              "      <td>1.732994</td>\n",
              "      <td>-0.207005</td>\n",
              "      <td>0.444305</td>\n",
              "      <td>-0.997155</td>\n",
              "    </tr>\n",
              "    <tr>\n",
              "      <th>10125</th>\n",
              "      <td>0.0</td>\n",
              "      <td>1.0</td>\n",
              "      <td>0.0</td>\n",
              "      <td>0.0</td>\n",
              "      <td>1.0</td>\n",
              "      <td>0.0</td>\n",
              "      <td>0.0</td>\n",
              "      <td>0.0</td>\n",
              "      <td>0.0</td>\n",
              "      <td>0.0</td>\n",
              "      <td>0.0</td>\n",
              "      <td>0.0</td>\n",
              "      <td>1.0</td>\n",
              "      <td>0.0</td>\n",
              "      <td>1.0</td>\n",
              "      <td>0.0</td>\n",
              "      <td>0.0</td>\n",
              "      <td>0.0</td>\n",
              "      <td>0.0</td>\n",
              "      <td>1.0</td>\n",
              "      <td>0.0</td>\n",
              "      <td>0.0</td>\n",
              "      <td>0.0</td>\n",
              "      <td>-2.036565</td>\n",
              "      <td>-0.266547</td>\n",
              "      <td>0.008965</td>\n",
              "      <td>0.120579</td>\n",
              "      <td>0.651940</td>\n",
              "      <td>0.492404</td>\n",
              "      <td>-0.368710</td>\n",
              "      <td>-1.426858</td>\n",
              "      <td>-0.240713</td>\n",
              "      <td>-1.026208</td>\n",
              "      <td>1.174848</td>\n",
              "      <td>-0.121795</td>\n",
              "      <td>0.041070</td>\n",
              "      <td>-0.997155</td>\n",
              "    </tr>\n",
              "    <tr>\n",
              "      <th>10126</th>\n",
              "      <td>1.0</td>\n",
              "      <td>0.0</td>\n",
              "      <td>0.0</td>\n",
              "      <td>0.0</td>\n",
              "      <td>1.0</td>\n",
              "      <td>0.0</td>\n",
              "      <td>0.0</td>\n",
              "      <td>0.0</td>\n",
              "      <td>0.0</td>\n",
              "      <td>0.0</td>\n",
              "      <td>1.0</td>\n",
              "      <td>0.0</td>\n",
              "      <td>0.0</td>\n",
              "      <td>0.0</td>\n",
              "      <td>0.0</td>\n",
              "      <td>0.0</td>\n",
              "      <td>0.0</td>\n",
              "      <td>1.0</td>\n",
              "      <td>0.0</td>\n",
              "      <td>0.0</td>\n",
              "      <td>0.0</td>\n",
              "      <td>0.0</td>\n",
              "      <td>1.0</td>\n",
              "      <td>-0.414894</td>\n",
              "      <td>-0.266547</td>\n",
              "      <td>-1.368442</td>\n",
              "      <td>1.407306</td>\n",
              "      <td>-0.337598</td>\n",
              "      <td>1.396424</td>\n",
              "      <td>0.193220</td>\n",
              "      <td>0.979433</td>\n",
              "      <td>0.105372</td>\n",
              "      <td>-0.259771</td>\n",
              "      <td>1.733877</td>\n",
              "      <td>-0.164400</td>\n",
              "      <td>-0.265557</td>\n",
              "      <td>-0.311572</td>\n",
              "    </tr>\n",
              "  </tbody>\n",
              "</table>\n",
              "<p>10127 rows × 37 columns</p>\n",
              "</div>"
            ],
            "text/plain": [
              "        0    1    2    3   ...        33        34         35        36\n",
              "0      0.0  1.0  0.0  0.0  ... -0.959707 -0.973895   3.834003 -0.775882\n",
              "1      1.0  0.0  0.0  0.0  ... -0.916433 -1.357340  12.608573 -0.616276\n",
              "2      0.0  1.0  0.0  0.0  ... -0.740982 -1.911206   6.807864 -0.997155\n",
              "3      1.0  0.0  0.0  0.0  ... -0.951758 -1.911206   6.807864  1.759686\n",
              "4      0.0  1.0  0.0  0.0  ... -1.056263 -1.570365   7.509325 -0.997155\n",
              "...    ...  ...  ...  ...  ...       ...       ...        ...       ...\n",
              "10122  0.0  1.0  0.0  0.0  ...  3.259358  2.221481   0.608119  0.678714\n",
              "10123  0.0  1.0  0.0  0.0  ...  1.283475  0.176440  -0.122745  0.856458\n",
              "10124  1.0  0.0  0.0  0.0  ...  1.732994 -0.207005   0.444305 -0.997155\n",
              "10125  0.0  1.0  0.0  0.0  ...  1.174848 -0.121795   0.041070 -0.997155\n",
              "10126  1.0  0.0  0.0  0.0  ...  1.733877 -0.164400  -0.265557 -0.311572\n",
              "\n",
              "[10127 rows x 37 columns]"
            ]
          },
          "metadata": {
            "tags": []
          },
          "execution_count": 147
        }
      ]
    },
    {
      "cell_type": "code",
      "metadata": {
        "id": "HB0tM-YJY8Ko",
        "colab": {
          "base_uri": "https://localhost:8080/"
        },
        "outputId": "3582128f-1b30-4f4f-c8a4-b50f8e297c54"
      },
      "source": [
        "x_credito_modelada.info()"
      ],
      "execution_count": null,
      "outputs": [
        {
          "output_type": "stream",
          "text": [
            "<class 'pandas.core.frame.DataFrame'>\n",
            "RangeIndex: 10127 entries, 0 to 10126\n",
            "Data columns (total 37 columns):\n",
            " #   Column  Non-Null Count  Dtype  \n",
            "---  ------  --------------  -----  \n",
            " 0   0       10127 non-null  float64\n",
            " 1   1       10127 non-null  float64\n",
            " 2   2       10127 non-null  float64\n",
            " 3   3       10127 non-null  float64\n",
            " 4   4       10127 non-null  float64\n",
            " 5   5       10127 non-null  float64\n",
            " 6   6       10127 non-null  float64\n",
            " 7   7       10127 non-null  float64\n",
            " 8   8       10127 non-null  float64\n",
            " 9   9       10127 non-null  float64\n",
            " 10  10      10127 non-null  float64\n",
            " 11  11      10127 non-null  float64\n",
            " 12  12      10127 non-null  float64\n",
            " 13  13      10127 non-null  float64\n",
            " 14  14      10127 non-null  float64\n",
            " 15  15      10127 non-null  float64\n",
            " 16  16      10127 non-null  float64\n",
            " 17  17      10127 non-null  float64\n",
            " 18  18      10127 non-null  float64\n",
            " 19  19      10127 non-null  float64\n",
            " 20  20      10127 non-null  float64\n",
            " 21  21      10127 non-null  float64\n",
            " 22  22      10127 non-null  float64\n",
            " 23  23      10127 non-null  float64\n",
            " 24  24      10127 non-null  float64\n",
            " 25  25      10127 non-null  float64\n",
            " 26  26      10127 non-null  float64\n",
            " 27  27      10127 non-null  float64\n",
            " 28  28      10127 non-null  float64\n",
            " 29  29      10127 non-null  float64\n",
            " 30  30      10127 non-null  float64\n",
            " 31  31      10127 non-null  float64\n",
            " 32  32      10127 non-null  float64\n",
            " 33  33      10127 non-null  float64\n",
            " 34  34      10127 non-null  float64\n",
            " 35  35      10127 non-null  float64\n",
            " 36  36      10127 non-null  float64\n",
            "dtypes: float64(37)\n",
            "memory usage: 2.9 MB\n"
          ],
          "name": "stdout"
        }
      ]
    },
    {
      "cell_type": "code",
      "metadata": {
        "id": "GSsQASDfIEtr",
        "colab": {
          "base_uri": "https://localhost:8080/"
        },
        "outputId": "5e27d3a0-7d4c-4cac-e51c-2e3559ece526"
      },
      "source": [
        "x_train,x_test,y_train,y_test = train_test_split(x_credito,y_credito,random_state=0)\n",
        "x_train.reshape(-1,1)"
      ],
      "execution_count": null,
      "outputs": [
        {
          "output_type": "execute_result",
          "data": {
            "text/plain": [
              "array([[ 1.        ],\n",
              "       [ 0.        ],\n",
              "       [ 0.        ],\n",
              "       ...,\n",
              "       [-1.18692029],\n",
              "       [-0.12694512],\n",
              "       [ 1.95193932]])"
            ]
          },
          "metadata": {
            "tags": []
          },
          "execution_count": 149
        }
      ]
    },
    {
      "cell_type": "code",
      "metadata": {
        "colab": {
          "base_uri": "https://localhost:8080/"
        },
        "id": "7CsvxEpCJIyW",
        "outputId": "4d26235a-b552-4987-d569-91455798fd28"
      },
      "source": [
        "x_train.shape, y_train.shape"
      ],
      "execution_count": null,
      "outputs": [
        {
          "output_type": "execute_result",
          "data": {
            "text/plain": [
              "((7595, 37), (7595,))"
            ]
          },
          "metadata": {
            "tags": []
          },
          "execution_count": 150
        }
      ]
    },
    {
      "cell_type": "code",
      "metadata": {
        "colab": {
          "base_uri": "https://localhost:8080/"
        },
        "id": "9tFo2WHGKChQ",
        "outputId": "2b899fec-f567-4cde-c8e1-b00bc2c1b215"
      },
      "source": [
        "x_credito.shape"
      ],
      "execution_count": null,
      "outputs": [
        {
          "output_type": "execute_result",
          "data": {
            "text/plain": [
              "(10127, 37)"
            ]
          },
          "metadata": {
            "tags": []
          },
          "execution_count": 151
        }
      ]
    },
    {
      "cell_type": "code",
      "metadata": {
        "id": "0-LA2WBB8gwq",
        "colab": {
          "base_uri": "https://localhost:8080/"
        },
        "outputId": "9fcec390-42fb-4624-d21a-2d7c7951acfa"
      },
      "source": [
        "x_train_bal,x_test_bal,y_train_bal,y_test_bal = train_test_split(x_credito_smote,y_credito_smote,random_state=0)\n",
        "x_train.reshape(-1,1)"
      ],
      "execution_count": null,
      "outputs": [
        {
          "output_type": "execute_result",
          "data": {
            "text/plain": [
              "array([[ 1.        ],\n",
              "       [ 0.        ],\n",
              "       [ 0.        ],\n",
              "       ...,\n",
              "       [-1.18692029],\n",
              "       [-0.12694512],\n",
              "       [ 1.95193932]])"
            ]
          },
          "metadata": {
            "tags": []
          },
          "execution_count": 152
        }
      ]
    },
    {
      "cell_type": "code",
      "metadata": {
        "id": "ZMfHoopW8UlY"
      },
      "source": [
        "import pickle"
      ],
      "execution_count": null,
      "outputs": []
    },
    {
      "cell_type": "code",
      "metadata": {
        "id": "qSuSFwuI9ieB"
      },
      "source": [
        "with open ('base_credito.pkl', mode = 'wb') as f:\n",
        "  pickle.dump([x_train, x_test, y_train, y_test], f)"
      ],
      "execution_count": null,
      "outputs": []
    },
    {
      "cell_type": "code",
      "metadata": {
        "colab": {
          "base_uri": "https://localhost:8080/"
        },
        "id": "8XX3xOdBDKOF",
        "outputId": "b31d9d8a-4f53-4161-e794-1078c81eefc2"
      },
      "source": [
        "plt.figure(figsize=[20,5])\n",
        "sns.countplot(x = 'TIPO_DO_CARTAO', hue = 'NIVEL_CREDITO', data= base_credito,);"
      ],
      "execution_count": null,
      "outputs": [
        {
          "output_type": "display_data",
          "data": {
            "image/png": "[encoded data removed]",
            "text/plain": [
              "<Figure size 1440x360 with 1 Axes>"
            ]
          },
          "metadata": {
            "tags": [],
            "needs_background": "light"
          }
        }
      ]
    },
    {
      "cell_type": "markdown",
      "metadata": {
        "id": "g9BSz3QdOI5B"
      },
      "source": [
        "# Análise dos clientes que abandonaram o serviço de crédito.\n",
        "\n",
        "Criação de um dataframe coma classe de clientes que abandonaram o serviço, para através deste, fazer uma análise mais isolada das variáveis.\n",
        "\n"
      ]
    },
    {
      "cell_type": "code",
      "metadata": {
        "id": "PlLQSbcj17Yd"
      },
      "source": [
        "base_credito_saiu = base_credito[base_credito['CONDICAO']==1]"
      ],
      "execution_count": null,
      "outputs": []
    },
    {
      "cell_type": "code",
      "metadata": {
        "colab": {
          "base_uri": "https://localhost:8080/"
        },
        "id": "5qujqZmzOvfE",
        "outputId": "f3661d92-3af0-475b-a45d-b72006dbf1b9"
      },
      "source": [
        "base_credito_saiu.hist(figsize=(30,20,),bins=15);\n",
        "\n",
        "'''Através de uma análise inicial dos dados relacionados aos clientes que dispensaram o serviço, é possível traçar\n",
        "um perfil genérico desse cliente, que pelos dados, é um cliente que utiliza pouco o cartâo, têm um limite de crédito\n",
        "mais baixo, em sua maioria faz compras de baixo valor, mas tiveram um aumento substancial nas despesas com o cartâo,\n",
        "podendo este ser o gatilho para a desistência do serviço.'''"
      ],
      "execution_count": null,
      "outputs": [
        {
          "output_type": "execute_result",
          "data": {
            "application/vnd.google.colaboratory.intrinsic+json": {
              "type": "string"
            },
            "text/plain": [
              "'Através de uma análise inicial dos dados relacionados aos clientes que dispensaram o serviço, é possível traçar\\num perfil genérico desse cliente, que pelos dados, é um cliente que utiliza pouco o cartâo, têm um limite de crédito\\nmais baixo, em sua maioria faz compras de baixo valor, mas tiveram um aumento substancial nas despesas com o cartâo,\\npodendo este ser o gatilho para a desistência do serviço.'"
            ]
          },
          "metadata": {
            "tags": []
          },
          "execution_count": 157
        },
        {
          "output_type": "display_data",
          "data": {
            "image/png": "[encoded data removed]",
            "text/plain": [
              "<Figure size 2160x1440 with 16 Axes>"
            ]
          },
          "metadata": {
            "tags": [],
            "needs_background": "light"
          }
        }
      ]
    },
    {
      "cell_type": "code",
      "metadata": {
        "id": "f_hXcTaBkuvx",
        "colab": {
          "base_uri": "https://localhost:8080/"
        },
        "outputId": "5c787e08-bdb2-49cd-8b44-f67e6e87fcc9"
      },
      "source": [
        "plt.figure(figsize=[20,5])\n",
        "sns.countplot(x = 'RENDA', hue = 'TIPO_DO_CARTAO', data = base_credito_saiu);\n",
        "\n",
        "''' O gráfico mostra que a maioria dos desistentes está concentrada em uma faixa de renda menor e utilizam o cartâo mais básico,\n",
        "o que reforça a tese de que, o aumento das despesas pode ter sido decisivo, mas há um número grande de clientes com uma faixa maior\n",
        "de renda, que utilizavam o cartâo mais básico, e uma oferta de serviço melhor, poderia ter mantido este cliente na base.'''\n",
        "\n",
        "renda_80_120 = base_credito_saiu[base_credito_saiu['RENDA'] =='$80K - $120K']['TIPO_DO_CARTAO'].value_counts()\n",
        "renda_120 = base_credito_saiu[base_credito_saiu['RENDA'] == '$120K +']['TIPO_DO_CARTAO'].value_counts()\n",
        "print(renda_80_120,renda_120)"
      ],
      "execution_count": null,
      "outputs": [
        {
          "output_type": "stream",
          "text": [
            "Blue      215\n",
            "Silver     22\n",
            "Gold        5\n",
            "Name: TIPO_DO_CARTAO, dtype: int64 Blue      113\n",
            "Silver     11\n",
            "Gold        2\n",
            "Name: TIPO_DO_CARTAO, dtype: int64\n"
          ],
          "name": "stdout"
        },
        {
          "output_type": "display_data",
          "data": {
            "image/png": "[encoded data removed]",
            "text/plain": [
              "<Figure size 1440x360 with 1 Axes>"
            ]
          },
          "metadata": {
            "tags": [],
            "needs_background": "light"
          }
        }
      ]
    },
    {
      "cell_type": "code",
      "metadata": {
        "colab": {
          "base_uri": "https://localhost:8080/"
        },
        "id": "12F1Nnoy5L0J",
        "outputId": "98a02f2e-8175-4b26-d1b8-4dcc12d22e59"
      },
      "source": [
        "plt.figure(figsize=[20,5])\n",
        "sns.countplot(x = 'CONTATOS_COM_BANCO', hue = 'RENDA', data = base_credito_saiu);\n",
        "\n",
        "''' O número de dois e três contatos com o banco indica um valor a ser considerado como um alerta, percebe-se\n",
        "que nesse número, aumenta de maneira significante, o número de ligações com clientes de uma faixa de renda maior.'''\n",
        "\n",
        "a = base_credito_saiu[base_credito_saiu['CONTATOS_COM_BANCO'] == 3]['RENDA'].value_counts()\n",
        "a"
      ],
      "execution_count": null,
      "outputs": [
        {
          "output_type": "execute_result",
          "data": {
            "text/plain": [
              "Less than $40K    254\n",
              "$80K - $120K      111\n",
              "$40K - $60K       107\n",
              "Unknown            89\n",
              "$60K - $80K        75\n",
              "$120K +            45\n",
              "Name: RENDA, dtype: int64"
            ]
          },
          "metadata": {
            "tags": []
          },
          "execution_count": 159
        },
        {
          "output_type": "display_data",
          "data": {
            "image/png": "[encoded data removed]",
            "text/plain": [
              "<Figure size 1440x360 with 1 Axes>"
            ]
          },
          "metadata": {
            "tags": [],
            "needs_background": "light"
          }
        }
      ]
    },
    {
      "cell_type": "markdown",
      "metadata": {
        "id": "U_5fkP-dAY2p"
      },
      "source": [
        "# Análise dos clientes que compõe a base de crédito.\n",
        "\n",
        "Criação de uma dataframe com a base de clientes que ainda se mantém no serviço,o objetivo aqui é tentar através de alguns clusters, identificar grupos e verificar a possibilidae de oferecer uma melhora no serviço."
      ]
    },
    {
      "cell_type": "code",
      "metadata": {
        "id": "7VtL88_LOj70"
      },
      "source": [
        "base_credito_ficou = base_credito[base_credito['CONDICAO']==0]"
      ],
      "execution_count": null,
      "outputs": []
    },
    {
      "cell_type": "code",
      "metadata": {
        "colab": {
          "base_uri": "https://localhost:8080/",
          "height": 402
        },
        "id": "fajF93xYDmv3",
        "outputId": "27804b3b-fa81-4bef-ac77-b1244faaaff2"
      },
      "source": [
        "base_credito_ficou.head()"
      ],
      "execution_count": null,
      "outputs": [
        {
          "output_type": "execute_result",
          "data": {
            "text/html": [
              "<div>\n",
              "<style scoped>\n",
              "    .dataframe tbody tr th:only-of-type {\n",
              "        vertical-align: middle;\n",
              "    }\n",
              "\n",
              "    .dataframe tbody tr th {\n",
              "        vertical-align: top;\n",
              "    }\n",
              "\n",
              "    .dataframe thead th {\n",
              "        text-align: right;\n",
              "    }\n",
              "</style>\n",
              "<table border=\"1\" class=\"dataframe\">\n",
              "  <thead>\n",
              "    <tr style=\"text-align: right;\">\n",
              "      <th></th>\n",
              "      <th>ID</th>\n",
              "      <th>CONDICAO</th>\n",
              "      <th>IDADE</th>\n",
              "      <th>GENERO</th>\n",
              "      <th>DEPENDENTES</th>\n",
              "      <th>INSTRUÇAO</th>\n",
              "      <th>ESTADO_CIVIL</th>\n",
              "      <th>RENDA</th>\n",
              "      <th>TIPO_DO_CARTAO</th>\n",
              "      <th>TEMPO(MESES)</th>\n",
              "      <th>PRODUTOS_ATIVOS</th>\n",
              "      <th>PERIODO_INATIVO</th>\n",
              "      <th>CONTATOS_COM_BANCO</th>\n",
              "      <th>LIMITE_DE_CREDITO</th>\n",
              "      <th>SALDO_TOTAL_NAO_PAGO</th>\n",
              "      <th>DIFRENCA_MEDIA_ENTRE_LIMITE_CARTAO_E _SALDO_NA CONTA</th>\n",
              "      <th>MUDANCA_NAS_DESPESAS_DO_CLIENTE_ENTRE O_4º_E_O_1º-TRIMESTRE</th>\n",
              "      <th>VALOR_TOTAL_DAS_TRANSACOES</th>\n",
              "      <th>NUMERO_DE_TRANSACOES</th>\n",
              "      <th>ALTERACAO_NO_NUMERO_DE_TRANSACOES_ENTRE_0_4°_E_1°_TRIMESTRE</th>\n",
              "      <th>TAXA_DE_UTILIZACAO_DE_CREDITO</th>\n",
              "      <th>NIVEL_COMPRAS</th>\n",
              "      <th>NIVEL_CREDITO</th>\n",
              "      <th>AUMENTO_DESPESAS_CLIENTE</th>\n",
              "      <th>NIVEL_DIFERENCA_SALDO_CONTA/CARTAO</th>\n",
              "      <th>NIVEL_SALDO_NAO_PAGO</th>\n",
              "      <th>NIVEL_UTILIZACAO_DE_CREDITO</th>\n",
              "      <th>NIVEL_VALOR_TRANSACOES</th>\n",
              "    </tr>\n",
              "  </thead>\n",
              "  <tbody>\n",
              "    <tr>\n",
              "      <th>0</th>\n",
              "      <td>768805383</td>\n",
              "      <td>0</td>\n",
              "      <td>45</td>\n",
              "      <td>M</td>\n",
              "      <td>3</td>\n",
              "      <td>High School</td>\n",
              "      <td>Married</td>\n",
              "      <td>$60K - $80K</td>\n",
              "      <td>Blue</td>\n",
              "      <td>39</td>\n",
              "      <td>5</td>\n",
              "      <td>1</td>\n",
              "      <td>3</td>\n",
              "      <td>12691.0</td>\n",
              "      <td>777</td>\n",
              "      <td>11914.0</td>\n",
              "      <td>1.335</td>\n",
              "      <td>1144</td>\n",
              "      <td>42</td>\n",
              "      <td>1.625</td>\n",
              "      <td>0.061</td>\n",
              "      <td>BAIXO</td>\n",
              "      <td>ALTO</td>\n",
              "      <td>ALTO</td>\n",
              "      <td>MEDIO</td>\n",
              "      <td>MEDIO</td>\n",
              "      <td>BAIXO</td>\n",
              "      <td>BAIXO</td>\n",
              "    </tr>\n",
              "    <tr>\n",
              "      <th>1</th>\n",
              "      <td>818770008</td>\n",
              "      <td>0</td>\n",
              "      <td>49</td>\n",
              "      <td>F</td>\n",
              "      <td>5</td>\n",
              "      <td>Graduate</td>\n",
              "      <td>Single</td>\n",
              "      <td>Less than $40K</td>\n",
              "      <td>Blue</td>\n",
              "      <td>44</td>\n",
              "      <td>6</td>\n",
              "      <td>1</td>\n",
              "      <td>2</td>\n",
              "      <td>8256.0</td>\n",
              "      <td>864</td>\n",
              "      <td>7392.0</td>\n",
              "      <td>1.541</td>\n",
              "      <td>1291</td>\n",
              "      <td>33</td>\n",
              "      <td>3.714</td>\n",
              "      <td>0.105</td>\n",
              "      <td>BAIXO</td>\n",
              "      <td>MEDIO</td>\n",
              "      <td>ALTO</td>\n",
              "      <td>MEDIO</td>\n",
              "      <td>MEDIO</td>\n",
              "      <td>BAIXO</td>\n",
              "      <td>BAIXO</td>\n",
              "    </tr>\n",
              "    <tr>\n",
              "      <th>2</th>\n",
              "      <td>713982108</td>\n",
              "      <td>0</td>\n",
              "      <td>51</td>\n",
              "      <td>M</td>\n",
              "      <td>3</td>\n",
              "      <td>Graduate</td>\n",
              "      <td>Married</td>\n",
              "      <td>$80K - $120K</td>\n",
              "      <td>Blue</td>\n",
              "      <td>36</td>\n",
              "      <td>4</td>\n",
              "      <td>1</td>\n",
              "      <td>0</td>\n",
              "      <td>3418.0</td>\n",
              "      <td>0</td>\n",
              "      <td>3418.0</td>\n",
              "      <td>2.594</td>\n",
              "      <td>1887</td>\n",
              "      <td>20</td>\n",
              "      <td>2.333</td>\n",
              "      <td>0.000</td>\n",
              "      <td>BAIXO</td>\n",
              "      <td>BAIXO</td>\n",
              "      <td>ALTO</td>\n",
              "      <td>BAIXO</td>\n",
              "      <td>BAIXO</td>\n",
              "      <td>BAIXO</td>\n",
              "      <td>BAIXO</td>\n",
              "    </tr>\n",
              "    <tr>\n",
              "      <th>3</th>\n",
              "      <td>769911858</td>\n",
              "      <td>0</td>\n",
              "      <td>40</td>\n",
              "      <td>F</td>\n",
              "      <td>4</td>\n",
              "      <td>High School</td>\n",
              "      <td>Unknown</td>\n",
              "      <td>Less than $40K</td>\n",
              "      <td>Blue</td>\n",
              "      <td>34</td>\n",
              "      <td>3</td>\n",
              "      <td>4</td>\n",
              "      <td>1</td>\n",
              "      <td>3313.0</td>\n",
              "      <td>2517</td>\n",
              "      <td>796.0</td>\n",
              "      <td>1.405</td>\n",
              "      <td>1171</td>\n",
              "      <td>20</td>\n",
              "      <td>2.333</td>\n",
              "      <td>0.760</td>\n",
              "      <td>BAIXO</td>\n",
              "      <td>BAIXO</td>\n",
              "      <td>ALTO</td>\n",
              "      <td>BAIXO</td>\n",
              "      <td>ALTO</td>\n",
              "      <td>ALTO</td>\n",
              "      <td>BAIXO</td>\n",
              "    </tr>\n",
              "    <tr>\n",
              "      <th>4</th>\n",
              "      <td>709106358</td>\n",
              "      <td>0</td>\n",
              "      <td>40</td>\n",
              "      <td>M</td>\n",
              "      <td>3</td>\n",
              "      <td>Uneducated</td>\n",
              "      <td>Married</td>\n",
              "      <td>$60K - $80K</td>\n",
              "      <td>Blue</td>\n",
              "      <td>21</td>\n",
              "      <td>5</td>\n",
              "      <td>1</td>\n",
              "      <td>0</td>\n",
              "      <td>4716.0</td>\n",
              "      <td>0</td>\n",
              "      <td>4716.0</td>\n",
              "      <td>2.175</td>\n",
              "      <td>816</td>\n",
              "      <td>28</td>\n",
              "      <td>2.500</td>\n",
              "      <td>0.000</td>\n",
              "      <td>BAIXO</td>\n",
              "      <td>MEDIO</td>\n",
              "      <td>ALTO</td>\n",
              "      <td>BAIXO</td>\n",
              "      <td>BAIXO</td>\n",
              "      <td>BAIXO</td>\n",
              "      <td>BAIXO</td>\n",
              "    </tr>\n",
              "  </tbody>\n",
              "</table>\n",
              "</div>"
            ],
            "text/plain": [
              "          ID  CONDICAO  ...  NIVEL_UTILIZACAO_DE_CREDITO NIVEL_VALOR_TRANSACOES\n",
              "0  768805383         0  ...                        BAIXO                  BAIXO\n",
              "1  818770008         0  ...                        BAIXO                  BAIXO\n",
              "2  713982108         0  ...                        BAIXO                  BAIXO\n",
              "3  769911858         0  ...                         ALTO                  BAIXO\n",
              "4  709106358         0  ...                        BAIXO                  BAIXO\n",
              "\n",
              "[5 rows x 28 columns]"
            ]
          },
          "metadata": {
            "tags": []
          },
          "execution_count": 161
        }
      ]
    },
    {
      "cell_type": "code",
      "metadata": {
        "colab": {
          "base_uri": "https://localhost:8080/",
          "height": 1000
        },
        "id": "rY_SSPZYHADb",
        "outputId": "2a71c538-1ed6-44d8-c4df-084c3c10bdec"
      },
      "source": [
        "base_credito_ficou.hist(figsize=(30,20,),bins=15);"
      ],
      "execution_count": null,
      "outputs": [
        {
          "output_type": "display_data",
          "data": {
            "image/png": "[encoded data removed]",
            "text/plain": [
              "<Figure size 2160x1440 with 16 Axes>"
            ]
          },
          "metadata": {
            "tags": [],
            "needs_background": "light"
          }
        }
      ]
    },
    {
      "cell_type": "code",
      "metadata": {
        "id": "Lrp__02bFcxp"
      },
      "source": [
        "base_cluster = base_credito_ficou[['RENDA','TIPO_DO_CARTAO','NIVEL_COMPRAS','NIVEL_CREDITO','AUMENTO_DESPESAS_CLIENTE',\n",
        "                                      'NIVEL_DIFERENCA_SALDO_CONTA/CARTAO',\t'NIVEL_SALDO_NAO_PAGO',\t'NIVEL_UTILIZACAO_DE_CREDITO',\n",
        "                                      'NIVEL_VALOR_TRANSACOES']]"
      ],
      "execution_count": null,
      "outputs": []
    },
    {
      "cell_type": "code",
      "metadata": {
        "colab": {
          "base_uri": "https://localhost:8080/"
        },
        "id": "aFqdF6sVGhGO",
        "outputId": "a5b27029-93f7-418f-add6-d37a46a5ca3a"
      },
      "source": [
        "base_cluster"
      ],
      "execution_count": null,
      "outputs": [
        {
          "output_type": "execute_result",
          "data": {
            "text/plain": [
              "ColumnTransformer(n_jobs=None, remainder='drop', sparse_threshold=0.3,\n",
              "                  transformer_weights=None,\n",
              "                  transformers=[('onehotencoder',\n",
              "                                 OneHotEncoder(categories='auto', drop=None,\n",
              "                                               dtype=<class 'numpy.float64'>,\n",
              "                                               handle_unknown='error',\n",
              "                                               sparse=True),\n",
              "                                 <sklearn.compose._column_transformer.make_column_selector object at 0x7fbd46ad9810>)],\n",
              "                  verbose=False)"
            ]
          },
          "metadata": {
            "tags": []
          },
          "execution_count": 174
        }
      ]
    },
    {
      "cell_type": "code",
      "metadata": {
        "id": "mQWONRyTN3LP"
      },
      "source": [
        "base_cluster = make_column_transformer((OneHotEncoder(),make_column_selector(dtype_include=object)))"
      ],
      "execution_count": null,
      "outputs": []
    },
    {
      "cell_type": "code",
      "metadata": {
        "id": "nyL8BRtlGu95"
      },
      "source": [
        "from sklearn.cluster import k_means"
      ],
      "execution_count": null,
      "outputs": []
    },
    {
      "cell_type": "code",
      "metadata": {
        "colab": {
          "base_uri": "https://localhost:8080/",
          "height": 243
        },
        "id": "nnhF7YJrOpDV",
        "outputId": "31c87373-9ede-42c2-b9b1-615c93da74e4"
      },
      "source": [
        "wcss_1 = []\n",
        "range_values = range(1, 20)\n",
        "for i in range_values:\n",
        "  kmeans = KMeans(n_clusters=i)\n",
        "  kmeans.fit(base_cluster)\n",
        "  wcss_1.append(kmeans.inertia_)"
      ],
      "execution_count": null,
      "outputs": [
        {
          "output_type": "error",
          "ename": "NameError",
          "evalue": "ignored",
          "traceback": [
            "\u001b[0;31m---------------------------------------------------------------------------\u001b[0m",
            "\u001b[0;31mNameError\u001b[0m                                 Traceback (most recent call last)",
            "\u001b[0;32m<ipython-input-171-384d49b4ed2d>\u001b[0m in \u001b[0;36m<module>\u001b[0;34m()\u001b[0m\n\u001b[1;32m      2\u001b[0m \u001b[0mrange_values\u001b[0m \u001b[0;34m=\u001b[0m \u001b[0mrange\u001b[0m\u001b[0;34m(\u001b[0m\u001b[0;36m1\u001b[0m\u001b[0;34m,\u001b[0m \u001b[0;36m20\u001b[0m\u001b[0;34m)\u001b[0m\u001b[0;34m\u001b[0m\u001b[0;34m\u001b[0m\u001b[0m\n\u001b[1;32m      3\u001b[0m \u001b[0;32mfor\u001b[0m \u001b[0mi\u001b[0m \u001b[0;32min\u001b[0m \u001b[0mrange_values\u001b[0m\u001b[0;34m:\u001b[0m\u001b[0;34m\u001b[0m\u001b[0;34m\u001b[0m\u001b[0m\n\u001b[0;32m----> 4\u001b[0;31m   \u001b[0mkmeans\u001b[0m \u001b[0;34m=\u001b[0m \u001b[0mKMeans\u001b[0m\u001b[0;34m(\u001b[0m\u001b[0mn_clusters\u001b[0m\u001b[0;34m=\u001b[0m\u001b[0mi\u001b[0m\u001b[0;34m)\u001b[0m\u001b[0;34m\u001b[0m\u001b[0;34m\u001b[0m\u001b[0m\n\u001b[0m\u001b[1;32m      5\u001b[0m   \u001b[0mkmeans\u001b[0m\u001b[0;34m.\u001b[0m\u001b[0mfit\u001b[0m\u001b[0;34m(\u001b[0m\u001b[0mbase_cluster\u001b[0m\u001b[0;34m)\u001b[0m\u001b[0;34m\u001b[0m\u001b[0;34m\u001b[0m\u001b[0m\n\u001b[1;32m      6\u001b[0m   \u001b[0mwcss_1\u001b[0m\u001b[0;34m.\u001b[0m\u001b[0mappend\u001b[0m\u001b[0;34m(\u001b[0m\u001b[0mkmeans\u001b[0m\u001b[0;34m.\u001b[0m\u001b[0minertia_\u001b[0m\u001b[0;34m)\u001b[0m\u001b[0;34m\u001b[0m\u001b[0;34m\u001b[0m\u001b[0m\n",
            "\u001b[0;31mNameError\u001b[0m: name 'KMeans' is not defined"
          ]
        }
      ]
    },
    {
      "cell_type": "code",
      "metadata": {
        "id": "p0m1bSSGIHmF"
      },
      "source": [
        "kmeans = KMeans(n_clusters=8,random_state=1)\n",
        "kmeans.fit(base_cluster)\n",
        "labels = kmeans.labels_"
      ],
      "execution_count": null,
      "outputs": []
    },
    {
      "cell_type": "markdown",
      "metadata": {
        "id": "pq-R0kru_spr"
      },
      "source": [
        "# Regressâo Logística"
      ]
    },
    {
      "cell_type": "code",
      "metadata": {
        "id": "sEDIcsC5_sqV"
      },
      "source": [
        "with open ('base_credito.pkl', 'rb') as f:\n",
        "  x_train, x_test, y_train, y_test = pickle.load(f)"
      ],
      "execution_count": null,
      "outputs": []
    },
    {
      "cell_type": "code",
      "metadata": {
        "id": "L44L9Q7H_xtL"
      },
      "source": [
        "from sklearn.linear_model import LogisticRegression"
      ],
      "execution_count": null,
      "outputs": []
    },
    {
      "cell_type": "code",
      "metadata": {
        "id": "qeqyabN2AMRE"
      },
      "source": [
        "modelo = LogisticRegression(random_state = 0)"
      ],
      "execution_count": null,
      "outputs": []
    },
    {
      "cell_type": "code",
      "metadata": {
        "id": "KcRCs-W7AkRR",
        "colab": {
          "base_uri": "https://localhost:8080/"
        },
        "outputId": "fbcb8fdd-5ba2-4c4d-f246-aafabe5f1fa5"
      },
      "source": [
        "modelo.fit(x_train,y_train)"
      ],
      "execution_count": null,
      "outputs": [
        {
          "output_type": "stream",
          "text": [
            "/usr/local/lib/python3.7/dist-packages/sklearn/linear_model/_logistic.py:940: ConvergenceWarning: lbfgs failed to converge (status=1):\n",
            "STOP: TOTAL NO. of ITERATIONS REACHED LIMIT.\n",
            "\n",
            "Increase the number of iterations (max_iter) or scale the data as shown in:\n",
            "    https://scikit-learn.org/stable/modules/preprocessing.html\n",
            "Please also refer to the documentation for alternative solver options:\n",
            "    https://scikit-learn.org/stable/modules/linear_model.html#logistic-regression\n",
            "  extra_warning_msg=_LOGISTIC_SOLVER_CONVERGENCE_MSG)\n"
          ],
          "name": "stderr"
        },
        {
          "output_type": "execute_result",
          "data": {
            "text/plain": [
              "LogisticRegression(C=1.0, class_weight=None, dual=False, fit_intercept=True,\n",
              "                   intercept_scaling=1, l1_ratio=None, max_iter=100,\n",
              "                   multi_class='auto', n_jobs=None, penalty='l2',\n",
              "                   random_state=0, solver='lbfgs', tol=0.0001, verbose=0,\n",
              "                   warm_start=False)"
            ]
          },
          "metadata": {
            "tags": []
          },
          "execution_count": 187
        }
      ]
    },
    {
      "cell_type": "code",
      "metadata": {
        "id": "CRI2uT18IfIg"
      },
      "source": [
        " y_pred = modelo.predict(x_test)"
      ],
      "execution_count": null,
      "outputs": []
    },
    {
      "cell_type": "code",
      "metadata": {
        "colab": {
          "base_uri": "https://localhost:8080/"
        },
        "id": "y7wjEaF1SkBw",
        "outputId": "b079fbcf-15e7-4f9a-e2b0-6cd7d5bbaa8a"
      },
      "source": [
        "accuracy_score(y_pred,y_test)"
      ],
      "execution_count": null,
      "outputs": [
        {
          "output_type": "execute_result",
          "data": {
            "text/plain": [
              "0.8607277289836889"
            ]
          },
          "metadata": {
            "tags": []
          },
          "execution_count": 189
        }
      ]
    },
    {
      "cell_type": "code",
      "metadata": {
        "colab": {
          "base_uri": "https://localhost:8080/",
          "height": 54
        },
        "id": "DLBCaA6tjzqc",
        "outputId": "46af0e00-c3bd-4055-e55f-64c80321de4f"
      },
      "source": [
        "classification_report(y_pred,y_test)"
      ],
      "execution_count": null,
      "outputs": [
        {
          "output_type": "execute_result",
          "data": {
            "application/vnd.google.colaboratory.intrinsic+json": {
              "type": "string"
            },
            "text/plain": [
              "'              precision    recall  f1-score   support\\n\\n           0       0.96      0.93      0.94      2221\\n           1       0.59      0.73      0.65       311\\n\\n    accuracy                           0.90      2532\\n   macro avg       0.77      0.83      0.80      2532\\nweighted avg       0.91      0.90      0.91      2532\\n'"
            ]
          },
          "metadata": {
            "tags": []
          },
          "execution_count": 178
        }
      ]
    },
    {
      "cell_type": "code",
      "metadata": {
        "colab": {
          "base_uri": "https://localhost:8080/"
        },
        "id": "fJ4X3lgNkHaC",
        "outputId": "0e71cf84-7d76-4883-a396-b0ca8a1bf9d0"
      },
      "source": [
        "recall_score(y_pred,y_test)"
      ],
      "execution_count": null,
      "outputs": [
        {
          "output_type": "execute_result",
          "data": {
            "text/plain": [
              "0.8043694141012909"
            ]
          },
          "metadata": {
            "tags": []
          },
          "execution_count": 190
        }
      ]
    },
    {
      "cell_type": "code",
      "metadata": {
        "colab": {
          "base_uri": "https://localhost:8080/"
        },
        "id": "UWRgTLisS_iX",
        "outputId": "10448568-fe8b-4d10-e23d-4fa14a22c901"
      },
      "source": [
        "precision_score(y_test, y_pred)"
      ],
      "execution_count": null,
      "outputs": [
        {
          "output_type": "execute_result",
          "data": {
            "text/plain": [
              "0.7266881028938906"
            ]
          },
          "metadata": {
            "tags": []
          },
          "execution_count": 180
        }
      ]
    },
    {
      "cell_type": "code",
      "metadata": {
        "colab": {
          "base_uri": "https://localhost:8080/",
          "height": 265
        },
        "id": "68YIVE4klZ6t",
        "outputId": "a9c79bfa-6468-4be0-f6ed-d6c9575609d7"
      },
      "source": [
        "cm = confusion_matrix(y_test, y_pred)\n",
        "sns.heatmap(cm, annot=True);"
      ],
      "execution_count": null,
      "outputs": [
        {
          "output_type": "display_data",
          "data": {
            "image/png": "[encoded data removed]",
            "text/plain": [
              "<Figure size 432x288 with 2 Axes>"
            ]
          },
          "metadata": {
            "tags": [],
            "needs_background": "light"
          }
        }
      ]
    },
    {
      "cell_type": "code",
      "metadata": {
        "colab": {
          "base_uri": "https://localhost:8080/"
        },
        "id": "4Cf-6mVolaAi",
        "outputId": "ae713e48-ea8b-4e5f-f63b-28aeb6950d14"
      },
      "source": [
        "cm = confusion_matrix(y_test, y_pred)\n",
        "cm"
      ],
      "execution_count": null,
      "outputs": [
        {
          "output_type": "execute_result",
          "data": {
            "text/plain": [
              "array([[1934,  197],\n",
              "       [ 247,  810]])"
            ]
          },
          "metadata": {
            "tags": []
          },
          "execution_count": 191
        }
      ]
    },
    {
      "cell_type": "code",
      "metadata": {
        "id": "HYH6P053lZ40"
      },
      "source": [
        "x_train2,x_test2,y_train,y_test = train_test_split(x_credito2,y_credito)"
      ],
      "execution_count": null,
      "outputs": []
    },
    {
      "cell_type": "code",
      "metadata": {
        "colab": {
          "base_uri": "https://localhost:8080/"
        },
        "id": "dem2Wm1ik0SS",
        "outputId": "89647fac-0d0a-42bf-e71d-fee74e21a969"
      },
      "source": [
        "modelo.fit(x_credito2,y_credito)"
      ],
      "execution_count": null,
      "outputs": [
        {
          "output_type": "stream",
          "text": [
            "/usr/local/lib/python3.7/dist-packages/sklearn/linear_model/_logistic.py:940: ConvergenceWarning: lbfgs failed to converge (status=1):\n",
            "STOP: TOTAL NO. of ITERATIONS REACHED LIMIT.\n",
            "\n",
            "Increase the number of iterations (max_iter) or scale the data as shown in:\n",
            "    https://scikit-learn.org/stable/modules/preprocessing.html\n",
            "Please also refer to the documentation for alternative solver options:\n",
            "    https://scikit-learn.org/stable/modules/linear_model.html#logistic-regression\n",
            "  extra_warning_msg=_LOGISTIC_SOLVER_CONVERGENCE_MSG)\n"
          ],
          "name": "stderr"
        },
        {
          "output_type": "execute_result",
          "data": {
            "text/plain": [
              "LogisticRegression(C=1.0, class_weight=None, dual=False, fit_intercept=True,\n",
              "                   intercept_scaling=1, l1_ratio=None, max_iter=100,\n",
              "                   multi_class='auto', n_jobs=None, penalty='l2',\n",
              "                   random_state=0, solver='lbfgs', tol=0.0001, verbose=0,\n",
              "                   warm_start=False)"
            ]
          },
          "metadata": {
            "tags": []
          },
          "execution_count": 109
        }
      ]
    },
    {
      "cell_type": "code",
      "metadata": {
        "id": "IlEMfogpk0BU"
      },
      "source": [
        "y_pred2 = modelo.predict(x_test2)"
      ],
      "execution_count": null,
      "outputs": []
    },
    {
      "cell_type": "code",
      "metadata": {
        "colab": {
          "base_uri": "https://localhost:8080/"
        },
        "id": "QtbzPQMrkz6L",
        "outputId": "b1623f56-0de8-4545-c6ba-8a8e8e1195af"
      },
      "source": [
        "recall_score(y_pred2,y_test)"
      ],
      "execution_count": null,
      "outputs": [
        {
          "output_type": "execute_result",
          "data": {
            "text/plain": [
              "0.7696969696969697"
            ]
          },
          "metadata": {
            "tags": []
          },
          "execution_count": 111
        }
      ]
    },
    {
      "cell_type": "code",
      "metadata": {
        "id": "6j_9d-cklZw7",
        "colab": {
          "base_uri": "https://localhost:8080/",
          "height": 265
        },
        "outputId": "56ef8e6d-c1b2-47d6-e425-7371a8c0a655"
      },
      "source": [
        "cm = confusion_matrix(y_test, y_pred)\n",
        "sns.heatmap(cm, annot=True);"
      ],
      "execution_count": null,
      "outputs": [
        {
          "output_type": "display_data",
          "data": {
            "image/png": "[encoded data removed]",
            "text/plain": [
              "<Figure size 432x288 with 2 Axes>"
            ]
          },
          "metadata": {
            "tags": [],
            "needs_background": "light"
          }
        }
      ]
    },
    {
      "cell_type": "code",
      "metadata": {
        "id": "zMrC0cdaTd_O"
      },
      "source": [
        "a = accuracy_score(y_pred2,y_test)\n",
        "p = precision_score(y_pred2,y_test)\n",
        "r = recall_score(y_pred2,y_test)\n",
        "f1 = f1_score(y_pred2,y_test)\n",
        "cm = confusion_matrix( y_pred2,y_test)\n"
      ],
      "execution_count": null,
      "outputs": []
    },
    {
      "cell_type": "code",
      "metadata": {
        "colab": {
          "base_uri": "https://localhost:8080/"
        },
        "id": "iytqqM68lZr-",
        "outputId": "e6b8074e-a480-4bfc-b710-285fe5842046"
      },
      "source": [
        " print(f\"Accuracy {a} Precision {p}\\nRecall {r} F1 {f1}\\nCM {cm}\" ) "
      ],
      "execution_count": null,
      "outputs": [
        {
          "output_type": "stream",
          "text": [
            "Accuracy 0.9052132701421801 Precision 0.6076555023923444\n",
            "Recall 0.7696969696969697 F1 0.679144385026738\n",
            "CM [[2038  164]\n",
            " [  76  254]]\n"
          ],
          "name": "stdout"
        }
      ]
    },
    {
      "cell_type": "code",
      "metadata": {
        "id": "PgsjBdrx_-sh"
      },
      "source": [
        "parametros ={'penalty':['l1', 'l2', 'elasticnet'],'dual':[True,False],'tol':[0.001,0.003,0.005],\n",
        "             'C':[0.5,1.0,2.0,],'fit_intercept':[True,False],'intercept_scaling':[0.3,0.7,1.0],\n",
        "             'class_weight' : [dict,'balanced',None],'solver':['newton-cg','lbfgs','liblinear','sag','saga']}"
      ],
      "execution_count": null,
      "outputs": []
    },
    {
      "cell_type": "markdown",
      "metadata": {
        "id": "mTuhS3QXX-P_"
      },
      "source": [
        "# Random Forest"
      ]
    },
    {
      "cell_type": "code",
      "metadata": {
        "id": "_fAE4lRCX80w"
      },
      "source": [
        "from sklearn.ensemble import RandomForestClassifier"
      ],
      "execution_count": null,
      "outputs": []
    },
    {
      "cell_type": "code",
      "metadata": {
        "id": "RJ8CHIJ9Yb6C"
      },
      "source": [
        "forest = RandomForestClassifier(random_state = 0)\n",
        "forest.fit(x_train,y_train)\n",
        "y_pred = forest.predict(x_test)"
      ],
      "execution_count": null,
      "outputs": []
    },
    {
      "cell_type": "code",
      "metadata": {
        "colab": {
          "base_uri": "https://localhost:8080/",
          "height": 352
        },
        "id": "fDGMAYZZZe6y",
        "outputId": "906acb4f-9d98-4dc1-d71e-1242c5e962b4"
      },
      "source": [
        "print(accuracy_score(y_pred,y_test))\n",
        "print(precision_score(y_pred,y_test))\n",
        "print(recall_score(y_pred,y_test))\n",
        "print(f1_score(y_pred,y_test))\n",
        "cm = confusion_matrix( y_pred,y_test)\n",
        "sns.heatmap(cm, annot=True)\n"
      ],
      "execution_count": null,
      "outputs": [
        {
          "output_type": "stream",
          "text": [
            "0.834518167456556\n",
            "0.0\n",
            "0.0\n",
            "0.0\n"
          ],
          "name": "stdout"
        },
        {
          "output_type": "execute_result",
          "data": {
            "text/plain": [
              "<matplotlib.axes._subplots.AxesSubplot at 0x7efc107f9410>"
            ]
          },
          "metadata": {
            "tags": []
          },
          "execution_count": 143
        },
        {
          "output_type": "display_data",
          "data": {
            "image/png": "[encoded data removed]",
            "text/plain": [
              "<Figure size 432x288 with 2 Axes>"
            ]
          },
          "metadata": {
            "tags": [],
            "needs_background": "light"
          }
        }
      ]
    },
    {
      "cell_type": "code",
      "metadata": {
        "colab": {
          "base_uri": "https://localhost:8080/"
        },
        "id": "LKEqs9OQpLeK",
        "outputId": "eb15fe27-9ea8-4f6b-c85b-8daead39d465"
      },
      "source": [
        " print(f\"Accuracy {a} Precision {p}\\nRecall {r} F1 {f1}\\nCM {cm}\" ) "
      ],
      "execution_count": null,
      "outputs": [
        {
          "output_type": "stream",
          "text": [
            "Accuracy 0.9052132701421801 Precision 0.6076555023923444\n",
            "Recall 0.7696969696969697 F1 0.679144385026738\n",
            "CM [[2113  418]\n",
            " [   1    0]]\n"
          ],
          "name": "stdout"
        }
      ]
    },
    {
      "cell_type": "markdown",
      "metadata": {
        "id": "uzG2SVc6Z8e-"
      },
      "source": [
        "# Naive Bayes"
      ]
    },
    {
      "cell_type": "code",
      "metadata": {
        "id": "v2hbHSzNZ4vj"
      },
      "source": [
        "from sklearn.naive_bayes import GaussianNB"
      ],
      "execution_count": null,
      "outputs": []
    },
    {
      "cell_type": "code",
      "metadata": {
        "id": "qs1rKuZwaKh8"
      },
      "source": [
        "bayes = GaussianNB()\n",
        "bayes.fit(x_train,y_train)\n",
        "y_pred = bayes.predict(x_test)"
      ],
      "execution_count": null,
      "outputs": []
    },
    {
      "cell_type": "code",
      "metadata": {
        "colab": {
          "base_uri": "https://localhost:8080/"
        },
        "id": "b0HuNTi5a3-N",
        "outputId": "c1c19e3e-94d4-415e-eac1-b6f4b8ea73bf"
      },
      "source": [
        "print(accuracy_score(y_pred,y_test))\n",
        "print(precision_score(y_pred,y_test))\n",
        "print(recall_score(y_pred,y_test))\n",
        "print(f1_score(y_pred,y_test))\n",
        "cm = confusion_matrix( y_pred,y_test)\n"
      ],
      "execution_count": null,
      "outputs": [
        {
          "output_type": "stream",
          "text": [
            "0.8226698262243286\n",
            "0.004784688995215311\n",
            "0.05714285714285714\n",
            "0.008830022075055188\n"
          ],
          "name": "stdout"
        }
      ]
    },
    {
      "cell_type": "code",
      "metadata": {
        "id": "aj17rYuXb3IR"
      },
      "source": [
        ""
      ],
      "execution_count": null,
      "outputs": []
    },
    {
      "cell_type": "markdown",
      "metadata": {
        "id": "hzATJDcKb38y"
      },
      "source": [
        "# SVM"
      ]
    },
    {
      "cell_type": "code",
      "metadata": {
        "id": "nArjO1Gyb76t"
      },
      "source": [
        "from sklearn.svm import SVC"
      ],
      "execution_count": null,
      "outputs": []
    },
    {
      "cell_type": "code",
      "metadata": {
        "id": "DC-FOvVqb-td"
      },
      "source": [
        "svc = SVC(kernel='rbf',C=1)\n",
        "svc.fit(x_train,y_train)\n",
        "y_pred = svc.predict(x_test)"
      ],
      "execution_count": null,
      "outputs": []
    },
    {
      "cell_type": "code",
      "metadata": {
        "colab": {
          "base_uri": "https://localhost:8080/",
          "height": 352
        },
        "id": "Acp8NqqOcfcU",
        "outputId": "c53fe47f-2b5d-4928-ba47-2fa0a001198b"
      },
      "source": [
        "print(accuracy_score(y_pred,y_test))\n",
        "print(precision_score(y_pred,y_test))\n",
        "print(recall_score(y_pred,y_test))\n",
        "print(f1_score(y_pred,y_test))\n",
        "cm = confusion_matrix( y_pred,y_test)\n",
        "sns.heatmap(cm, annot=True)"
      ],
      "execution_count": null,
      "outputs": [
        {
          "output_type": "stream",
          "text": [
            "0.934044233807267\n",
            "0.6770833333333334\n",
            "0.858085808580858\n",
            "0.7569141193595342\n"
          ],
          "name": "stdout"
        },
        {
          "output_type": "execute_result",
          "data": {
            "text/plain": [
              "<matplotlib.axes._subplots.AxesSubplot at 0x7f3692386910>"
            ]
          },
          "metadata": {
            "tags": []
          },
          "execution_count": 96
        },
        {
          "output_type": "display_data",
          "data": {
            "image/png": "[encoded data removed]",
            "text/plain": [
              "<Figure size 432x288 with 2 Axes>"
            ]
          },
          "metadata": {
            "tags": [],
            "needs_background": "light"
          }
        }
      ]
    },
    {
      "cell_type": "markdown",
      "metadata": {
        "id": "3KLUEEv2dNmm"
      },
      "source": [
        "# LGBMC"
      ]
    },
    {
      "cell_type": "code",
      "metadata": {
        "id": "rpiLb3bBdNTN"
      },
      "source": [
        "from lightgbm import LGBMClassifier"
      ],
      "execution_count": null,
      "outputs": []
    },
    {
      "cell_type": "code",
      "metadata": {
        "id": "gjlRNUkbdKfL"
      },
      "source": [
        "lgbmc = LGBMClassifier()\n",
        "lgbmc.fit(x_train,y_train)\n",
        "y_pred = lgbmc.predict(x_test)"
      ],
      "execution_count": null,
      "outputs": []
    },
    {
      "cell_type": "code",
      "metadata": {
        "id": "CSF-wFuXdv4c"
      },
      "source": [
        "print(accuracy_score(y_pred,y_test))\n",
        "print(precision_score(y_pred,y_test))\n",
        "print(recall_score(y_pred,y_test))\n",
        "print(f1_score(y_pred,y_test))\n",
        "cm = confusion_matrix( y_pred,y_test)\n",
        "sns.heatmap(cm, annot=True)"
      ],
      "execution_count": null,
      "outputs": []
    },
    {
      "cell_type": "markdown",
      "metadata": {
        "id": "8G3-Q4fFCA8J"
      },
      "source": [
        "# KNN"
      ]
    },
    {
      "cell_type": "code",
      "metadata": {
        "id": "V0hMnQ20CATw"
      },
      "source": [
        "with open ('base_credito.pkl', 'rb') as f:\n",
        "  x_train, x_test, y_train, y_test = pickle.load(f)"
      ],
      "execution_count": null,
      "outputs": []
    },
    {
      "cell_type": "code",
      "metadata": {
        "id": "KZLdpFXbCm-h"
      },
      "source": [
        "from sklearn.neighbors import KNeighborsClassifier"
      ],
      "execution_count": null,
      "outputs": []
    },
    {
      "cell_type": "code",
      "metadata": {
        "colab": {
          "base_uri": "https://localhost:8080/"
        },
        "id": "K9Gx7fLBC8Rf",
        "outputId": "9883f716-4d50-4ef7-e8e7-de8ed3cd02e9"
      },
      "source": [
        "knn = KNeighborsClassifier() \n",
        "knn.fit(x_train,y_train)"
      ],
      "execution_count": null,
      "outputs": [
        {
          "output_type": "execute_result",
          "data": {
            "text/plain": [
              "KNeighborsClassifier(algorithm='auto', leaf_size=30, metric='minkowski',\n",
              "                     metric_params=None, n_jobs=None, n_neighbors=5, p=2,\n",
              "                     weights='uniform')"
            ]
          },
          "metadata": {
            "tags": []
          },
          "execution_count": 140
        }
      ]
    },
    {
      "cell_type": "code",
      "metadata": {
        "id": "D-hPMeq-DH0b"
      },
      "source": [
        "y_pred = knn.predict(x_test)"
      ],
      "execution_count": null,
      "outputs": []
    },
    {
      "cell_type": "code",
      "metadata": {
        "colab": {
          "base_uri": "https://localhost:8080/"
        },
        "id": "sTC6ZmOHDuIg",
        "outputId": "7628e1e6-5458-4416-ff54-644a358235b9"
      },
      "source": [
        "print(accuracy_score(y_pred,y_test))\n",
        "print(precision_score(y_pred,y_test))\n",
        "print(recall_score(y_pred,y_test))\n",
        "print(f1_score(y_pred,y_test))\n",
        "cm = confusion_matrix( y_pred,y_test)\n",
        "cm\n"
      ],
      "execution_count": null,
      "outputs": [
        {
          "output_type": "stream",
          "text": [
            "0.9142969984202212\n",
            "0.5598958333333334\n",
            "0.8174904942965779\n",
            "0.6646058732612056\n"
          ],
          "name": "stdout"
        },
        {
          "output_type": "execute_result",
          "data": {
            "text/plain": [
              "array([[2100,  169],\n",
              "       [  48,  215]])"
            ]
          },
          "metadata": {
            "tags": []
          },
          "execution_count": 145
        }
      ]
    }
  ]
}